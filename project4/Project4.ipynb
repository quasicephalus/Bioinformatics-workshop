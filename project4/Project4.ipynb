{
 "cells": [
  {
   "cell_type": "markdown",
   "id": "e0c1c949",
   "metadata": {},
   "source": [
    "Annotated genome:"
   ]
  },
  {
   "cell_type": "code",
   "execution_count": 74,
   "id": "1e74b504",
   "metadata": {},
   "outputs": [
    {
     "name": "stdout",
     "output_type": "stream",
     "text": [
      "URL transformed to HTTPS due to an HSTS policy\n",
      "--2022-12-15 01:55:54--  https://ftp.ncbi.nlm.nih.gov/genomes/all/GCA/001/949/185/GCA_001949185.1_Rvar_4.0/GCA_001949185.1_Rvar_4.0_genomic.fna.gz\n",
      "Resolving ftp.ncbi.nlm.nih.gov (ftp.ncbi.nlm.nih.gov)... 165.112.9.228, 165.112.9.229, 2607:f220:41e:250::10, ...\n",
      "Connecting to ftp.ncbi.nlm.nih.gov (ftp.ncbi.nlm.nih.gov)|165.112.9.228|:443... connected.\n",
      "HTTP request sent, awaiting response... 200 OK\n",
      "Length: 17621408 (17M) [application/x-gzip]\n",
      "Saving to: ‘GCA_001949185.1_Rvar_4.0_genomic.fna.gz.2’\n",
      "\n",
      "GCA_001949185.1_Rva 100%[===================>]  16,80M  3,45MB/s    in 18s     \n",
      "\n",
      "2022-12-15 01:56:12 (957 KB/s) - ‘GCA_001949185.1_Rvar_4.0_genomic.fna.gz.2’ saved [17621408/17621408]\n",
      "\n"
     ]
    }
   ],
   "source": [
    "! wget ftp.ncbi.nlm.nih.gov/genomes/all/GCA/001/949/185/GCA_001949185.1_Rvar_4.0/GCA_001949185.1_Rvar_4.0_genomic.fna.gz\n"
   ]
  },
  {
   "cell_type": "markdown",
   "id": "b4ecc2f0",
   "metadata": {},
   "source": [
    "Augustus reults with C.elegans as model: \n",
    "\n",
    "http://bioinf.uni-greifswald.de/webaugustus/prediction/show/0db58ea184c352e9018502c6df190081"
   ]
  },
  {
   "cell_type": "markdown",
   "id": "c4aaf890",
   "metadata": {},
   "source": [
    "Get protein sequences from AUGUSTUS output .gff"
   ]
  },
  {
   "cell_type": "code",
   "execution_count": 82,
   "id": "97cd9040",
   "metadata": {},
   "outputs": [],
   "source": [
    "! ./getAnnoFasta.pl  augustus.gff"
   ]
  },
  {
   "cell_type": "markdown",
   "id": "7b594c30",
   "metadata": {},
   "source": [
    "There are 17769 proteins"
   ]
  },
  {
   "cell_type": "code",
   "execution_count": 83,
   "id": "a25d0359",
   "metadata": {},
   "outputs": [
    {
     "name": "stdout",
     "output_type": "stream",
     "text": [
      "17769\r\n"
     ]
    }
   ],
   "source": [
    "! grep \">\" augustus.aa | wc -l"
   ]
  },
  {
   "cell_type": "markdown",
   "id": "fe3c9cb9",
   "metadata": {},
   "source": [
    "tried to align peptides with Diamond, but result is totally incorrect (4 hits)"
   ]
  },
  {
   "cell_type": "code",
   "execution_count": null,
   "id": "7aa681ba",
   "metadata": {},
   "outputs": [],
   "source": [
    "! conda install -c bioconda diamond"
   ]
  },
  {
   "cell_type": "code",
   "execution_count": 68,
   "id": "44d894e9",
   "metadata": {
    "collapsed": true
   },
   "outputs": [
    {
     "name": "stdout",
     "output_type": "stream",
     "text": [
      "diamond v0.9.14.115 | by Benjamin Buchfink <buchfink@gmail.com>\n",
      "Licensed under the GNU AGPL <https://www.gnu.org/licenses/agpl.txt>\n",
      "Check http://github.com/bbuchfink/diamond for updates.\n",
      "\n",
      "#CPU threads: 4\n",
      "Scoring parameters: (Matrix=BLOSUM62 Lambda=0.267 K=0.041 Penalties=11/1)\n",
      "Database file: augustus.whole.aa\n",
      "Opening the database file...  [0.000699s]\n",
      "Loading sequences...  [0.04987s]\n",
      "Masking sequences...  [0.921379s]\n",
      "Writing sequences...  [0.016453s]\n",
      "Loading sequences...  [1e-05s]\n",
      "Writing trailer...  [0.000216s]\n",
      "Closing the input file...  [1.1e-05s]\n",
      "Closing the database file...  [5.2e-05s]\n",
      "Processed 16435 sequences, 7015168 letters.\n",
      "Total time = 0.988807s\n"
     ]
    }
   ],
   "source": [
    "!diamond makedb --in augustus.whole.aa  --db diamond_db"
   ]
  },
  {
   "cell_type": "code",
   "execution_count": 69,
   "id": "0a2f9498",
   "metadata": {
    "collapsed": true
   },
   "outputs": [
    {
     "name": "stdout",
     "output_type": "stream",
     "text": [
      "diamond v0.9.14.115 | by Benjamin Buchfink <buchfink@gmail.com>\n",
      "Licensed under the GNU AGPL <https://www.gnu.org/licenses/agpl.txt>\n",
      "Check http://github.com/bbuchfink/diamond for updates.\n",
      "\n",
      "#CPU threads: 4\n",
      "Scoring parameters: (Matrix=BLOSUM62 Lambda=0.267 K=0.041 Penalties=11/1)\n",
      "#Target sequences to report alignments for: 25\n",
      "Temporary directory: \n",
      "Opening the database...  [2.4e-05s]\n",
      "Opening the input file...  [0.000768s]\n",
      "Opening the output file...  [7.3e-05s]\n",
      "Loading query sequences...  [3.4e-05s]\n",
      "Masking queries...  [0.00242s]\n",
      "Building query seed set...  [0.000213s]\n",
      "Algorithm: Query-indexed\n",
      "Building query histograms...  [0.000147s]\n",
      "Allocating buffers...  [1.2e-05s]\n",
      "Loading reference sequences...  [0.019119s]\n",
      "Building reference histograms...  [0.010727s]\n",
      "Allocating buffers...  [5e-05s]\n",
      "Initializing temporary storage...  [0.002829s]\n",
      "Processing query chunk 0, reference chunk 0, shape 0, index chunk 0.\n",
      "Building reference index...  [0.021423s]\n",
      "Building query index...  [0.001202s]\n",
      "Building seed filter...  [0.000738s]\n",
      "Searching alignments...  [0.004123s]\n",
      "Deallocating buffers...  [0.000108s]\n",
      "Computing alignments...  [0.002497s]\n",
      "Deallocating reference...  [0.00104s]\n",
      "Loading reference sequences...  [1.8e-05s]\n",
      "Deallocating buffers...  [1.5e-05s]\n",
      "Deallocating queries...  [1e-05s]\n",
      "Loading query sequences...  [1.1e-05s]\n",
      "Closing the input file...  [1.2e-05s]\n",
      "Closing the output file...  [9.1e-05s]\n",
      "Closing the database file...  [1.3e-05s]\n",
      "Total time = 0.068773s\n",
      "Reported 4 pairwise alignments, 4 HSPs.\n",
      "4 queries aligned.\n"
     ]
    }
   ],
   "source": [
    "!diamond blastp -d diamond_db.dmnd -q peptides.fa -f 6 -o diamond_out.fa --sensitive\n"
   ]
  },
  {
   "cell_type": "markdown",
   "id": "b5f62b56",
   "metadata": {},
   "source": [
    "So here is run with Blastp"
   ]
  },
  {
   "cell_type": "code",
   "execution_count": null,
   "id": "ced0f00c",
   "metadata": {},
   "outputs": [],
   "source": [
    "! conda install -c bioconda blast"
   ]
  },
  {
   "cell_type": "code",
   "execution_count": 84,
   "id": "31d2fd1f",
   "metadata": {},
   "outputs": [
    {
     "name": "stdout",
     "output_type": "stream",
     "text": [
      "\n",
      "\n",
      "Building a new DB, current time: 12/15/2022 02:16:11\n",
      "New DB name:   /home/pseudocephalus/BI/Workshop/project4/blast_db\n",
      "New DB title:  augustus.aa\n",
      "Sequence type: Protein\n",
      "Deleted existing Protein BLAST database named /home/pseudocephalus/BI/Workshop/project4/blast_db\n",
      "Keep MBits: T\n",
      "Maximum file size: 1000000000B\n",
      "Adding sequences from FASTA; added 17769 sequences in 1.38341 seconds.\n"
     ]
    }
   ],
   "source": [
    "! makeblastdb -in augustus.aa -dbtype prot  -out blast_db"
   ]
  },
  {
   "cell_type": "code",
   "execution_count": 85,
   "id": "da60ea8f",
   "metadata": {},
   "outputs": [],
   "source": [
    "! blastp -db blast_db -query peptides.fa -outfmt \"6 sseqid\" -out blast_out   "
   ]
  },
  {
   "cell_type": "markdown",
   "id": "e6541274",
   "metadata": {},
   "source": [
    "Manually double checked with Ctrl+F, this is correct result: 34 DNA binding peptides are found in reference tardigrade"
   ]
  },
  {
   "cell_type": "code",
   "execution_count": 87,
   "id": "50634808",
   "metadata": {
    "scrolled": true
   },
   "outputs": [
    {
     "name": "stdout",
     "output_type": "stream",
     "text": [
      "34 blast_sorted\r\n"
     ]
    }
   ],
   "source": [
    "! sort -u blast_out > blast_sorted\n",
    "! wc -l blast_sorted"
   ]
  },
  {
   "cell_type": "markdown",
   "id": "a8c15d79",
   "metadata": {},
   "source": [
    "Simple script to parse results"
   ]
  },
  {
   "cell_type": "code",
   "execution_count": 89,
   "id": "929ae520",
   "metadata": {},
   "outputs": [],
   "source": [
    "import re\n",
    "with open('augustus.aa') as ref, open('blast_sorted') as b, open('parsed_out', \"w\") as out:\n",
    "    blast=b.read().split('\\n')\n",
    "    reference=ref.read().split('>')\n",
    "    for item in reference:\n",
    "        if item:\n",
    "            name = re.match(r'.*?t1', item)\n",
    "            if name.group() in blast:\n",
    "                out.write(\">\"+item)"
   ]
  },
  {
   "cell_type": "markdown",
   "id": "266a035c",
   "metadata": {},
   "source": [
    "Loaded parsed_out to WolF PSORT, here is result. There are some genes marked as \"nucleus\", but what they are will be clear on BLASTing"
   ]
  },
  {
   "cell_type": "markdown",
   "id": "cb91207b",
   "metadata": {},
   "source": [
    "НА СВОИХ ДАННЫХ ОТ АВГУСТУСА  - СМОТРЕТЬ НА НИХ https://wolfpsort.hgc.jp/results/aPR3a1cc04cfc4d7e1efaea2d4f3fc4c264.html\n",
    "\n",
    "*** НА МИШИНЫХ ДАННЫХ - https://wolfpsort.hgc.jp/results/aKC18c5dca75a3f15f4e20c27853d9cf118.html"
   ]
  },
  {
   "cell_type": "markdown",
   "id": "b5af6245",
   "metadata": {},
   "source": [
    "TargetP: only few proteins annotated as \"Signal\", seems like there is no link to paste\n"
   ]
  },
  {
   "cell_type": "markdown",
   "id": "3d6f3446",
   "metadata": {},
   "source": [
    "Our HMMER run available here:\n",
    "\n",
    "www.ebi.ac.uk/Tools/hmmer/results/score/C7AE46BC-7D56-11ED-B53B-0C6F642C8881"
   ]
  },
  {
   "cell_type": "code",
   "execution_count": null,
   "id": "488d3c19",
   "metadata": {},
   "outputs": [],
   "source": []
  }
 ],
 "metadata": {
  "kernelspec": {
   "display_name": "project4",
   "language": "python",
   "name": "project4"
  },
  "language_info": {
   "codemirror_mode": {
    "name": "ipython",
    "version": 3
   },
   "file_extension": ".py",
   "mimetype": "text/x-python",
   "name": "python",
   "nbconvert_exporter": "python",
   "pygments_lexer": "ipython3",
   "version": "3.10.8"
  }
 },
 "nbformat": 4,
 "nbformat_minor": 5
}
