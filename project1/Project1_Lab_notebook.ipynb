{
 "cells": [
  {
   "cell_type": "markdown",
   "id": "9bb6e460",
   "metadata": {},
   "source": [
    "# Project 1 Lab notebook\n",
    "\n",
    " _To run code directly from notebook one should place it in project directory with `/data` subfolder in it._"
   ]
  },
  {
   "cell_type": "markdown",
   "id": "fbe3bf0e",
   "metadata": {},
   "source": [
    "##### 1. Download reference genome in .fasta and .gff formats in `/data` folder."
   ]
  },
  {
   "cell_type": "markdown",
   "id": "b91485f0",
   "metadata": {
    "scrolled": true
   },
   "source": [
    "https://ftp.ncbi.nlm.nih.gov/genomes/all/GCF/000/005/845/GCF_000005845.2_ASM584v2/GCF_000005845.2_ASM584v2_genomic.fna.gz\n",
    "https://ftp.ncbi.nlm.nih.gov/genomes/all/GCF/000/005/845/GCF_000005845.2_ASM584v2/GCF_000005845.2_ASM584v2_genomic.gff.gz"
   ]
  },
  {
   "cell_type": "markdown",
   "id": "71ef9bea",
   "metadata": {},
   "source": [
    "##### 2. Download shotgun sequence data in `/data` folder."
   ]
  },
  {
   "cell_type": "markdown",
   "id": "7a6362a2",
   "metadata": {},
   "source": [
    "https://figshare.com/ndownloader/files/23769689\n",
    "\n",
    "https://figshare.com/ndownloader/files/23769692"
   ]
  },
  {
   "cell_type": "markdown",
   "id": "0603c1f3",
   "metadata": {},
   "source": [
    "###### 3. Check data manually"
   ]
  },
  {
   "cell_type": "code",
   "execution_count": 26,
   "id": "d84febee",
   "metadata": {},
   "outputs": [
    {
     "name": "stdout",
     "output_type": "stream",
     "text": [
      "@SRR1363257.37 GWZHISEQ01:153:C1W31ACXX:5:1101:14027:2198 length=101\r\n",
      "GGTTGCAGATTCGCAGTGTCGCTGTTCCAGCGCATCACATCTTTGATGTTCACGCCGTGGCGTTTAGCAATGCTTGAAAGCGAATCGCCTTTGCCCACACG\r\n",
      "+\r\n",
      "@?:=:;DBFADH;CAECEE@@E:FFHGAE4?C?DE<BFGEC>?>FHE4BFFIIFHIBABEECA83;>>@>@CCCDC9@@CC08<@?@BB@9:CC#######\r\n",
      "@SRR1363257.46 GWZHISEQ01:153:C1W31ACXX:5:1101:19721:2155 length=101\r\n",
      "GTATGAGGTTTTGCTGCATTCTCTGNGCGAATATTAACTCCNTNNNNNTTATAGTTCAAAGCAAGTACCTGTCTCTTATACACATCTCCGAGCCCACGAGC\r\n",
      "+\r\n",
      "@@<?=D?D==?<AFGDF+AIHEACH#22<:?E8??:9??GG#0#####000;CF=C)4.==CA@@@)=7?C7?E37;3@>;;(.;>AB#############\r\n",
      "@SRR1363257.77 GWZHISEQ01:153:C1W31ACXX:5:1101:5069:2307 length=101\r\n",
      "GCTTCTCTTAACTGAGGTCACCATCATGCCGTTAAGTCCCTACCTCTCTTTTGCCGGTAACTGTTCCGCCGCGATTGCCTTTTATCTGTCTCTTATACACC\r\n",
      "\r\n",
      "gzip: stdout: Broken pipe\r\n"
     ]
    }
   ],
   "source": [
    "! zcat data/amp_res_1.fastq.gz | head"
   ]
  },
  {
   "cell_type": "code",
   "execution_count": 27,
   "id": "c2d075a3",
   "metadata": {},
   "outputs": [
    {
     "name": "stdout",
     "output_type": "stream",
     "text": [
      "@SRR1363257.37 GWZHISEQ01:153:C1W31ACXX:5:1101:14027:2198 length=101\r\n",
      "GATCTAAGCTGAAGCCAGGCCAAAGTTTGACGATTGGTGCAGGCAGTAGCGCACAGCGACTGGCAAACAACAGCGATAGCATTACGTATCGTGTGCGCAAA\r\n",
      "+\r\n",
      "???BDB:DFHBFD@9;;+A;AFGH;ABHFHHGE@9:B:??@D>@;F?D8<<F8AA9EHHD8'..;5?A?A992(',(59CC3@C>22::A238+2>B<>B<\r\n",
      "@SRR1363257.46 GWZHISEQ01:153:C1W31ACXX:5:1101:19721:2155 length=101\r\n",
      "GTACTTGCTTTGNACTATAATATGCACGGAGNTAATATTCGCTCAGAGAATGCAGCAAAACCTCATACCTGTCTCTTATACACATCTGACGCTGCCGACGA\r\n",
      "+\r\n",
      ";@@DB?B;CFBB#2<:CB:FH<C@:<A?C::#1:86:BG9:8?8688?888EBF;783)=6-7=CC;ECD);?7;;>>AE;>(5;->AC@;B@;8?#####\r\n",
      "@SRR1363257.77 GWZHISEQ01:153:C1W31ACXX:5:1101:5069:2307 length=101\r\n",
      "ATAATAGGCAATCGCGTCGGAACAGTTACCGGCCAAAGAGAGGCAGGGACTTAACGGCATGATGGTGACCTCAGTTAAGAGAAGCCTGTCTCTTATACACA\r\n",
      "\r\n",
      "gzip: stdout: Broken pipe\r\n"
     ]
    }
   ],
   "source": [
    "! zcat data/amp_res_2.fastq.gz | head"
   ]
  },
  {
   "cell_type": "code",
   "execution_count": 28,
   "id": "86c752e6",
   "metadata": {},
   "outputs": [
    {
     "name": "stdout",
     "output_type": "stream",
     "text": [
      ">NC_000913.3 Escherichia coli str. K-12 substr. MG1655, complete genome\r\n",
      "AGCTTTTCATTCTGACTGCAACGGGCAATATGTCTCTGTGTGGATTAAAAAAAGAGTGTCTGATAGCAGCTTCTGAACTG\r\n",
      "GTTACCTGCCGTGAGTAAATTAAAATTTTATTGACTTAGGTCACTAAATACTTTAACCAATATAGGCATAGCGCACAGAC\r\n",
      "AGATAAAAATTACAGAGTACACAACATCCATGAAACGCATTAGCACCACCATTACCACCACCATCACCATTACCACAGGT\r\n",
      "AACGGTGCGGGCTGACGCGTACAGGAAACACAGAAAAAAGCCCGCACCTGACAGTGCGGGCTTTTTTTTTCGACCAAAGG\r\n",
      "TAACGAGGTAACAACCATGCGAGTGTTGAAGTTCGGCGGTACATCAGTGGCAAATGCAGAACGTTTTCTGCGTGTTGCCG\r\n",
      "ATATTCTGGAAAGCAATGCCAGGCAGGGGCAGGTGGCCACCGTCCTCTCTGCCCCCGCCAAAATCACCAACCACCTGGTG\r\n",
      "GCGATGATTGAAAAAACCATTAGCGGCCAGGATGCTTTACCCAATATCAGCGATGCCGAACGTATTTTTGCCGAACTTTT\r\n",
      "GACGGGACTCGCCGCCGCCCAGCCGGGGTTCCCGCTGGCGCAATTGAAAACTTTCGTCGATCAGGAATTTGCCCAAATAA\r\n",
      "AACATGTCCTGCATGGCATTAGTTTGTTGGGGCAGTGCCCGGATAGCATCAACGCTGCGCTGATTTGCCGTGGCGAGAAA\r\n",
      "\r\n",
      "gzip: stdout: Broken pipe\r\n"
     ]
    }
   ],
   "source": [
    "! zcat data/GCF_000005845.2_ASM584v2_genomic.fna.gz | head"
   ]
  },
  {
   "cell_type": "markdown",
   "id": "a5fff3ab",
   "metadata": {},
   "source": [
    "Unarchive sequencing data."
   ]
  },
  {
   "cell_type": "code",
   "execution_count": null,
   "id": "7a10d0e6",
   "metadata": {},
   "outputs": [
    {
     "name": "stdout",
     "output_type": "stream",
     "text": [
      "gzip: data/amp_res_1.fastq already exists; do you wish to overwrite (y or n)? ^C\n",
      "gzip: data/amp_res_2.fastq already exists; do you wish to overwrite (y or n)? "
     ]
    }
   ],
   "source": [
    "! gunzip -k data/amp_res_1.fastq.gz\n",
    "! gunzip -k data/amp_res_2.fastq.gz"
   ]
  },
  {
   "cell_type": "markdown",
   "id": "3cb66447",
   "metadata": {},
   "source": [
    "Estimated number of reads in each file are:"
   ]
  },
  {
   "cell_type": "code",
   "execution_count": null,
   "id": "e187260d",
   "metadata": {
    "scrolled": true
   },
   "outputs": [],
   "source": [
    "! expr $(wc -l data/amp_res_2.fastq | cut -d \" \" -f 1) / 4 "
   ]
  },
  {
   "cell_type": "markdown",
   "id": "b99b00b8",
   "metadata": {},
   "source": [
    "##### 4. Install and run fastqc with sequence data; check output"
   ]
  },
  {
   "cell_type": "markdown",
   "id": "ad2d1457",
   "metadata": {},
   "source": [
    "`sudo apt-get install fastqc`"
   ]
  },
  {
   "cell_type": "code",
   "execution_count": 1,
   "id": "b692203f",
   "metadata": {
    "scrolled": true
   },
   "outputs": [
    {
     "name": "stdout",
     "output_type": "stream",
     "text": [
      "Started analysis of amp_res_1.fastq\n",
      "Approx 5% complete for amp_res_1.fastq\n",
      "Approx 10% complete for amp_res_1.fastq\n",
      "Approx 15% complete for amp_res_1.fastq\n",
      "Approx 20% complete for amp_res_1.fastq\n",
      "Approx 25% complete for amp_res_1.fastq\n",
      "Approx 30% complete for amp_res_1.fastq\n",
      "Approx 35% complete for amp_res_1.fastq\n",
      "Approx 40% complete for amp_res_1.fastq\n",
      "Approx 45% complete for amp_res_1.fastq\n",
      "Approx 50% complete for amp_res_1.fastq\n",
      "Approx 55% complete for amp_res_1.fastq\n",
      "Approx 60% complete for amp_res_1.fastq\n",
      "Approx 65% complete for amp_res_1.fastq\n",
      "Approx 70% complete for amp_res_1.fastq\n",
      "Approx 75% complete for amp_res_1.fastq\n",
      "Approx 80% complete for amp_res_1.fastq\n",
      "Approx 85% complete for amp_res_1.fastq\n",
      "Approx 90% complete for amp_res_1.fastq\n",
      "Approx 95% complete for amp_res_1.fastq\n",
      "Analysis complete for amp_res_1.fastq\n",
      "Started analysis of amp_res_2.fastq\n",
      "Approx 5% complete for amp_res_2.fastq\n",
      "Approx 10% complete for amp_res_2.fastq\n",
      "Approx 15% complete for amp_res_2.fastq\n",
      "Approx 20% complete for amp_res_2.fastq\n",
      "Approx 25% complete for amp_res_2.fastq\n",
      "Approx 30% complete for amp_res_2.fastq\n",
      "Approx 35% complete for amp_res_2.fastq\n",
      "Approx 40% complete for amp_res_2.fastq\n",
      "Approx 45% complete for amp_res_2.fastq\n",
      "Approx 50% complete for amp_res_2.fastq\n",
      "Approx 55% complete for amp_res_2.fastq\n",
      "Approx 60% complete for amp_res_2.fastq\n",
      "Approx 65% complete for amp_res_2.fastq\n",
      "Approx 70% complete for amp_res_2.fastq\n",
      "Approx 75% complete for amp_res_2.fastq\n",
      "Approx 80% complete for amp_res_2.fastq\n",
      "Approx 85% complete for amp_res_2.fastq\n",
      "Approx 90% complete for amp_res_2.fastq\n",
      "Approx 95% complete for amp_res_2.fastq\n",
      "Analysis complete for amp_res_2.fastq\n"
     ]
    }
   ],
   "source": [
    "! fastqc -o . data/amp_res_1.fastq data/amp_res_2.fastq"
   ]
  },
  {
   "cell_type": "markdown",
   "id": "1d6c99b2",
   "metadata": {},
   "source": [
    "Check out generated _.html_ files. \n",
    "\n",
    "Estimated read count is the same as calculated by fastqc (455876). \"Per base sequence quality\" is red circled in both files and \"Per tile sequence quality\" is red circled in forward sequence file (`amp_res_1`).\n",
    "\n",
    "It may be useful to filter out low quality bases. What to do with the whole tiles that provide low quality data is unclear."
   ]
  },
  {
   "cell_type": "markdown",
   "id": "9af2ad5e",
   "metadata": {},
   "source": [
    "`amp_res_1_fastqc.html`\n",
    "\n",
    "`amp_res_2_fastqc.html`\n",
    "\n"
   ]
  },
  {
   "cell_type": "markdown",
   "id": "cf004bf0",
   "metadata": {},
   "source": [
    "###### 5. Filter low quality reads with Trimmomatic"
   ]
  },
  {
   "cell_type": "markdown",
   "id": "22f01d57",
   "metadata": {},
   "source": [
    "Install Trimmomatic with `sudo apt-get install trimmomatic`"
   ]
  },
  {
   "cell_type": "markdown",
   "id": "bea2fb1d",
   "metadata": {},
   "source": [
    "Run it with following parameters:\n",
    "\n",
    "* Delete adapters - `ILLUMINACLIP:/usr/share/trimmomatic/TruSeq3-PE.fa:2:30:10`\n",
    "\n",
    "* Cut bases off the start of a read if quality below 20 - `LEADING:20`\n",
    "\n",
    "* Cut bases off the end of a read if quality below 20 - `TRAILING: 20`\n",
    "\n",
    "* Trim reads using a sliding window approach, with window size 10 and average quality  within the window 20 - `SLIDINGWINDOW:10:20`\n",
    "\n",
    "* Drop the read if it is below length 20 - `MINLEN:20`\n",
    "\n",
    "*not shure if adapter sequences are set correct; just copypasted it from http://www.usadellab.org/cms/?page=trimmomatic\n"
   ]
  },
  {
   "cell_type": "code",
   "execution_count": null,
   "id": "79709ddf",
   "metadata": {},
   "outputs": [],
   "source": [
    "! TrimmomaticPE -phred33 data/amp_res_1.fastq data/amp_res_2.fastq \\\n",
    "data/amp_res_1_trimmed.fastq \\\n",
    "data/forward_unpaired.fastq \\\n",
    "data/amp_res_2_trimmed.fastq \\\n",
    "data/reverse_unpaired.fastq \\\n",
    "ILLUMINACLIP:/usr/share/trimmomatic/TruSeq3-PE.fa:2:30:10 \\\n",
    "LEADING:20 TRAILING:20 SLIDINGWINDOW:10:20 MINLEN:20 "
   ]
  },
  {
   "cell_type": "markdown",
   "id": "8483042e",
   "metadata": {},
   "source": [
    "Check how many reads in trimmed files:"
   ]
  },
  {
   "cell_type": "code",
   "execution_count": null,
   "id": "d250f3d7",
   "metadata": {},
   "outputs": [],
   "source": [
    "! expr $(wc -l data/amp_res_1_trimmed.fastq | cut -d \" \" -f 1) / 4 "
   ]
  },
  {
   "cell_type": "code",
   "execution_count": null,
   "id": "7f3617dd",
   "metadata": {},
   "outputs": [],
   "source": [
    "! expr $(wc -l data/amp_res_2_trimmed.fastq | cut -d \" \" -f 1) / 4 "
   ]
  },
  {
   "cell_type": "markdown",
   "id": "67ffd065",
   "metadata": {},
   "source": [
    "Generate fastqc reports"
   ]
  },
  {
   "cell_type": "code",
   "execution_count": 2,
   "id": "cabd9a17",
   "metadata": {},
   "outputs": [
    {
     "name": "stdout",
     "output_type": "stream",
     "text": [
      "Started analysis of amp_res_1_trimmed.fastq\n",
      "Approx 5% complete for amp_res_1_trimmed.fastq\n",
      "Approx 10% complete for amp_res_1_trimmed.fastq\n",
      "Approx 15% complete for amp_res_1_trimmed.fastq\n",
      "Approx 20% complete for amp_res_1_trimmed.fastq\n",
      "Approx 25% complete for amp_res_1_trimmed.fastq\n",
      "Approx 30% complete for amp_res_1_trimmed.fastq\n",
      "Approx 35% complete for amp_res_1_trimmed.fastq\n",
      "Approx 40% complete for amp_res_1_trimmed.fastq\n",
      "Approx 45% complete for amp_res_1_trimmed.fastq\n",
      "Approx 50% complete for amp_res_1_trimmed.fastq\n",
      "Approx 55% complete for amp_res_1_trimmed.fastq\n",
      "Approx 60% complete for amp_res_1_trimmed.fastq\n",
      "Approx 65% complete for amp_res_1_trimmed.fastq\n",
      "Approx 70% complete for amp_res_1_trimmed.fastq\n",
      "Approx 75% complete for amp_res_1_trimmed.fastq\n",
      "Approx 80% complete for amp_res_1_trimmed.fastq\n",
      "Approx 85% complete for amp_res_1_trimmed.fastq\n",
      "Approx 90% complete for amp_res_1_trimmed.fastq\n",
      "Approx 95% complete for amp_res_1_trimmed.fastq\n",
      "Analysis complete for amp_res_1_trimmed.fastq\n",
      "Started analysis of amp_res_2_trimmed.fastq\n",
      "Approx 5% complete for amp_res_2_trimmed.fastq\n",
      "Approx 10% complete for amp_res_2_trimmed.fastq\n",
      "Approx 15% complete for amp_res_2_trimmed.fastq\n",
      "Approx 20% complete for amp_res_2_trimmed.fastq\n",
      "Approx 25% complete for amp_res_2_trimmed.fastq\n",
      "Approx 30% complete for amp_res_2_trimmed.fastq\n",
      "Approx 35% complete for amp_res_2_trimmed.fastq\n",
      "Approx 40% complete for amp_res_2_trimmed.fastq\n",
      "Approx 45% complete for amp_res_2_trimmed.fastq\n",
      "Approx 50% complete for amp_res_2_trimmed.fastq\n",
      "Approx 55% complete for amp_res_2_trimmed.fastq\n",
      "Approx 60% complete for amp_res_2_trimmed.fastq\n",
      "Approx 65% complete for amp_res_2_trimmed.fastq\n",
      "Approx 70% complete for amp_res_2_trimmed.fastq\n",
      "Approx 75% complete for amp_res_2_trimmed.fastq\n",
      "Approx 80% complete for amp_res_2_trimmed.fastq\n",
      "Approx 85% complete for amp_res_2_trimmed.fastq\n",
      "Approx 90% complete for amp_res_2_trimmed.fastq\n",
      "Approx 95% complete for amp_res_2_trimmed.fastq\n",
      "Analysis complete for amp_res_2_trimmed.fastq\n"
     ]
    }
   ],
   "source": [
    "! fastqc -o . data/amp_res_1_trimmed.fastq data/amp_res_2_trimmed.fastq"
   ]
  },
  {
   "cell_type": "markdown",
   "id": "104663ae",
   "metadata": {},
   "source": [
    "Check .html files. Defect tile is still present, but sequence quality is now ok."
   ]
  },
  {
   "cell_type": "markdown",
   "id": "d30db13b",
   "metadata": {},
   "source": [
    "`amp_res_1_trimmed_fastqc.html`\n",
    "\n",
    "`amp_res_2_trimmed_fastqc.html`\n"
   ]
  },
  {
   "cell_type": "markdown",
   "id": "3508dc7a",
   "metadata": {},
   "source": [
    "Let's try trim sequencing data with quality score 30:"
   ]
  },
  {
   "cell_type": "code",
   "execution_count": null,
   "id": "7c04b2d2",
   "metadata": {},
   "outputs": [],
   "source": [
    "! TrimmomaticPE -phred33 data/amp_res_1.fastq data/amp_res_2.fastq \\\n",
    "data/amp_res_1_trimmed_30.fastq \\\n",
    "data/forward_unpaired_30.fastq \\\n",
    "data/amp_res_2_trimmed_30.fastq \\\n",
    "data/reverse_unpaired_30.fastq \\\n",
    "ILLUMINACLIP:/usr/share/trimmomatic/TruSeq3-PE.fa:2:30:10 \\\n",
    "LEADING:30 TRAILING:30 SLIDINGWINDOW:10:30 MINLEN:20 "
   ]
  },
  {
   "cell_type": "code",
   "execution_count": null,
   "id": "4f6f362c",
   "metadata": {},
   "outputs": [],
   "source": [
    "! expr $(wc -l data/amp_res_1_trimmed_30.fastq | cut -d \" \" -f 1) / 4 "
   ]
  },
  {
   "cell_type": "code",
   "execution_count": null,
   "id": "15171176",
   "metadata": {},
   "outputs": [],
   "source": [
    "! expr $(wc -l data/amp_res_2_trimmed_30.fastq | cut -d \" \" -f 1) / 4 "
   ]
  },
  {
   "cell_type": "code",
   "execution_count": 25,
   "id": "0c4158f1",
   "metadata": {},
   "outputs": [
    {
     "name": "stdout",
     "output_type": "stream",
     "text": [
      "Started analysis of amp_res_1_trimmed_30.fastq\n",
      "Approx 5% complete for amp_res_1_trimmed_30.fastq\n",
      "Approx 10% complete for amp_res_1_trimmed_30.fastq\n",
      "Approx 15% complete for amp_res_1_trimmed_30.fastq\n",
      "Approx 20% complete for amp_res_1_trimmed_30.fastq\n",
      "Approx 25% complete for amp_res_1_trimmed_30.fastq\n",
      "Approx 30% complete for amp_res_1_trimmed_30.fastq\n",
      "Approx 35% complete for amp_res_1_trimmed_30.fastq\n",
      "Approx 40% complete for amp_res_1_trimmed_30.fastq\n",
      "Approx 45% complete for amp_res_1_trimmed_30.fastq\n",
      "Approx 50% complete for amp_res_1_trimmed_30.fastq\n",
      "Approx 55% complete for amp_res_1_trimmed_30.fastq\n",
      "Approx 60% complete for amp_res_1_trimmed_30.fastq\n",
      "Approx 65% complete for amp_res_1_trimmed_30.fastq\n",
      "Approx 70% complete for amp_res_1_trimmed_30.fastq\n",
      "Approx 75% complete for amp_res_1_trimmed_30.fastq\n",
      "Approx 80% complete for amp_res_1_trimmed_30.fastq\n",
      "Approx 85% complete for amp_res_1_trimmed_30.fastq\n",
      "Approx 90% complete for amp_res_1_trimmed_30.fastq\n",
      "Approx 95% complete for amp_res_1_trimmed_30.fastq\n",
      "Approx 100% complete for amp_res_1_trimmed_30.fastq\n",
      "Analysis complete for amp_res_1_trimmed_30.fastq\n",
      "Started analysis of amp_res_2_trimmed_30.fastq\n",
      "Approx 5% complete for amp_res_2_trimmed_30.fastq\n",
      "Approx 10% complete for amp_res_2_trimmed_30.fastq\n",
      "Approx 15% complete for amp_res_2_trimmed_30.fastq\n",
      "Approx 20% complete for amp_res_2_trimmed_30.fastq\n",
      "Approx 25% complete for amp_res_2_trimmed_30.fastq\n",
      "Approx 30% complete for amp_res_2_trimmed_30.fastq\n",
      "Approx 35% complete for amp_res_2_trimmed_30.fastq\n",
      "Approx 40% complete for amp_res_2_trimmed_30.fastq\n",
      "Approx 45% complete for amp_res_2_trimmed_30.fastq\n",
      "Approx 50% complete for amp_res_2_trimmed_30.fastq\n",
      "Approx 55% complete for amp_res_2_trimmed_30.fastq\n",
      "Approx 60% complete for amp_res_2_trimmed_30.fastq\n",
      "Approx 65% complete for amp_res_2_trimmed_30.fastq\n",
      "Approx 70% complete for amp_res_2_trimmed_30.fastq\n",
      "Approx 75% complete for amp_res_2_trimmed_30.fastq\n",
      "Approx 80% complete for amp_res_2_trimmed_30.fastq\n",
      "Approx 85% complete for amp_res_2_trimmed_30.fastq\n",
      "Approx 90% complete for amp_res_2_trimmed_30.fastq\n",
      "Approx 95% complete for amp_res_2_trimmed_30.fastq\n",
      "Approx 100% complete for amp_res_2_trimmed_30.fastq\n",
      "Analysis complete for amp_res_2_trimmed_30.fastq\n"
     ]
    }
   ],
   "source": [
    "! fastqc -o . data/amp_res_1_trimmed_30.fastq data/amp_res_2_trimmed_30.fastq"
   ]
  },
  {
   "cell_type": "markdown",
   "id": "3bf81aa1",
   "metadata": {},
   "source": [
    "`amp_res_1_trimmed_30_fastqc.html`\n",
    "\n",
    "`amp_res_2_trimmed_30_fastqc.html`"
   ]
  },
  {
   "cell_type": "markdown",
   "id": "2ddee519",
   "metadata": {},
   "source": [
    "It seems like not much has changed, but there is a lot more reads filtered, so it's probably not worth it to increase threshold. Note that in reverse sequence GC content is slightly changed, so yellow circle in FastQC report turned green."
   ]
  },
  {
   "cell_type": "markdown",
   "id": "703f2dce",
   "metadata": {},
   "source": [
    "##### 6. Align sequencing data on reference genome"
   ]
  },
  {
   "cell_type": "markdown",
   "id": "5f54e1e3",
   "metadata": {},
   "source": [
    "Install BWA and Samtools:\n",
    "    \n",
    "`sudo apt-get install bwa`\n",
    "\n",
    "`sudo apt-get install samtools`\n"
   ]
  },
  {
   "cell_type": "markdown",
   "id": "be867497",
   "metadata": {},
   "source": [
    "Index reference genome."
   ]
  },
  {
   "cell_type": "code",
   "execution_count": null,
   "id": "78837cca",
   "metadata": {},
   "outputs": [],
   "source": [
    "! bwa index data/GCF_000005845.2_ASM584v2_genomic.fna.gz"
   ]
  },
  {
   "cell_type": "markdown",
   "id": "15df1d25",
   "metadata": {},
   "source": [
    "Align seqencing data on reference genome and compress it into .bam."
   ]
  },
  {
   "cell_type": "code",
   "execution_count": 7,
   "id": "b4a7219d",
   "metadata": {},
   "outputs": [
    {
     "name": "stdout",
     "output_type": "stream",
     "text": [
      "[M::bwa_idx_load_from_disk] read 0 ALT contigs\n",
      "[M::process] read 106302 sequences (10000070 bp)...\n",
      "[M::process] read 108220 sequences (10000179 bp)...\n",
      "[M::mem_pestat] # candidate unique pairs for (FF, FR, RF, RR): (9, 51224, 0, 21)\n",
      "[M::mem_pestat] skip orientation FF as there are not enough pairs\n",
      "[M::mem_pestat] analyzing insert size distribution for orientation FR...\n",
      "[M::mem_pestat] (25, 50, 75) percentile: (145, 185, 231)\n",
      "[M::mem_pestat] low and high boundaries for computing mean and std.dev: (1, 403)\n",
      "[M::mem_pestat] mean and std.dev: (189.55, 63.63)\n",
      "[M::mem_pestat] low and high boundaries for proper pairs: (1, 489)\n",
      "[M::mem_pestat] skip orientation RF as there are not enough pairs\n",
      "[M::mem_pestat] analyzing insert size distribution for orientation RR...\n",
      "[M::mem_pestat] (25, 50, 75) percentile: (117, 158, 1540)\n",
      "[M::mem_pestat] low and high boundaries for computing mean and std.dev: (1, 4386)\n",
      "[M::mem_pestat] mean and std.dev: (523.90, 696.25)\n",
      "[M::mem_pestat] low and high boundaries for proper pairs: (1, 5809)\n",
      "[M::mem_pestat] skip orientation RR\n",
      "[M::mem_process_seqs] Processed 106302 reads in 4.468 CPU sec, 4.333 real sec\n",
      "[M::process] read 108852 sequences (10000196 bp)...\n",
      "[M::mem_pestat] # candidate unique pairs for (FF, FR, RF, RR): (20, 51928, 0, 17)\n",
      "[M::mem_pestat] analyzing insert size distribution for orientation FF...\n",
      "[M::mem_pestat] (25, 50, 75) percentile: (80, 107, 210)\n",
      "[M::mem_pestat] low and high boundaries for computing mean and std.dev: (1, 470)\n",
      "[M::mem_pestat] mean and std.dev: (119.00, 69.53)\n",
      "[M::mem_pestat] low and high boundaries for proper pairs: (1, 600)\n",
      "[M::mem_pestat] analyzing insert size distribution for orientation FR...\n",
      "[M::mem_pestat] (25, 50, 75) percentile: (143, 182, 228)\n",
      "[M::mem_pestat] low and high boundaries for computing mean and std.dev: (1, 398)\n",
      "[M::mem_pestat] mean and std.dev: (187.31, 62.93)\n",
      "[M::mem_pestat] low and high boundaries for proper pairs: (1, 483)\n",
      "[M::mem_pestat] skip orientation RF as there are not enough pairs\n",
      "[M::mem_pestat] analyzing insert size distribution for orientation RR...\n",
      "[M::mem_pestat] (25, 50, 75) percentile: (89, 176, 483)\n",
      "[M::mem_pestat] low and high boundaries for computing mean and std.dev: (1, 1271)\n",
      "[M::mem_pestat] mean and std.dev: (169.14, 114.54)\n",
      "[M::mem_pestat] low and high boundaries for proper pairs: (1, 1665)\n",
      "[M::mem_pestat] skip orientation FF\n",
      "[M::mem_pestat] skip orientation RR\n",
      "[M::mem_process_seqs] Processed 108220 reads in 4.662 CPU sec, 4.471 real sec\n",
      "[M::process] read 105988 sequences (10000193 bp)...\n",
      "[M::mem_pestat] # candidate unique pairs for (FF, FR, RF, RR): (12, 52344, 0, 9)\n",
      "[M::mem_pestat] analyzing insert size distribution for orientation FF...\n",
      "[M::mem_pestat] (25, 50, 75) percentile: (100, 144, 178)\n",
      "[M::mem_pestat] low and high boundaries for computing mean and std.dev: (1, 334)\n",
      "[M::mem_pestat] mean and std.dev: (144.00, 68.68)\n",
      "[M::mem_pestat] low and high boundaries for proper pairs: (1, 419)\n",
      "[M::mem_pestat] analyzing insert size distribution for orientation FR...\n",
      "[M::mem_pestat] (25, 50, 75) percentile: (142, 181, 226)\n",
      "[M::mem_pestat] low and high boundaries for computing mean and std.dev: (1, 394)\n",
      "[M::mem_pestat] mean and std.dev: (185.83, 62.26)\n",
      "[M::mem_pestat] low and high boundaries for proper pairs: (1, 478)\n",
      "[M::mem_pestat] skip orientation RF as there are not enough pairs\n",
      "[M::mem_pestat] skip orientation RR as there are not enough pairs\n",
      "[M::mem_pestat] skip orientation FF\n",
      "[M::mem_process_seqs] Processed 108852 reads in 4.852 CPU sec, 4.677 real sec\n",
      "[M::process] read 105860 sequences (10000124 bp)...\n",
      "[M::mem_pestat] # candidate unique pairs for (FF, FR, RF, RR): (13, 51055, 0, 13)\n",
      "[M::mem_pestat] analyzing insert size distribution for orientation FF...\n",
      "[M::mem_pestat] (25, 50, 75) percentile: (84, 104, 199)\n",
      "[M::mem_pestat] low and high boundaries for computing mean and std.dev: (1, 429)\n",
      "[M::mem_pestat] mean and std.dev: (151.77, 93.70)\n",
      "[M::mem_pestat] low and high boundaries for proper pairs: (1, 544)\n",
      "[M::mem_pestat] analyzing insert size distribution for orientation FR...\n",
      "[M::mem_pestat] (25, 50, 75) percentile: (145, 184, 231)\n",
      "[M::mem_pestat] low and high boundaries for computing mean and std.dev: (1, 403)\n",
      "[M::mem_pestat] mean and std.dev: (189.22, 63.99)\n",
      "[M::mem_pestat] low and high boundaries for proper pairs: (1, 489)\n",
      "[M::mem_pestat] skip orientation RF as there are not enough pairs\n",
      "[M::mem_pestat] analyzing insert size distribution for orientation RR...\n",
      "[M::mem_pestat] (25, 50, 75) percentile: (110, 130, 1006)\n",
      "[M::mem_pestat] low and high boundaries for computing mean and std.dev: (1, 2798)\n",
      "[M::mem_pestat] mean and std.dev: (475.38, 646.65)\n",
      "[M::mem_pestat] low and high boundaries for proper pairs: (1, 3694)\n",
      "[M::mem_pestat] skip orientation FF\n",
      "[M::mem_pestat] skip orientation RR\n",
      "[M::mem_process_seqs] Processed 105988 reads in 5.205 CPU sec, 5.032 real sec\n",
      "[M::process] read 106454 sequences (10000093 bp)...\n",
      "[M::mem_pestat] # candidate unique pairs for (FF, FR, RF, RR): (12, 50830, 0, 11)\n",
      "[M::mem_pestat] analyzing insert size distribution for orientation FF...\n",
      "[M::mem_pestat] (25, 50, 75) percentile: (54, 73, 151)\n",
      "[M::mem_pestat] low and high boundaries for computing mean and std.dev: (1, 345)\n",
      "[M::mem_pestat] mean and std.dev: (90.75, 49.78)\n",
      "[M::mem_pestat] low and high boundaries for proper pairs: (1, 442)\n",
      "[M::mem_pestat] analyzing insert size distribution for orientation FR...\n",
      "[M::mem_pestat] (25, 50, 75) percentile: (143, 182, 227)\n",
      "[M::mem_pestat] low and high boundaries for computing mean and std.dev: (1, 395)\n",
      "[M::mem_pestat] mean and std.dev: (186.78, 62.36)\n",
      "[M::mem_pestat] low and high boundaries for proper pairs: (1, 479)\n",
      "[M::mem_pestat] skip orientation RF as there are not enough pairs\n",
      "[M::mem_pestat] analyzing insert size distribution for orientation RR...\n",
      "[M::mem_pestat] (25, 50, 75) percentile: (83, 125, 196)\n",
      "[M::mem_pestat] low and high boundaries for computing mean and std.dev: (1, 422)\n",
      "[M::mem_pestat] mean and std.dev: (118.30, 58.38)\n",
      "[M::mem_pestat] low and high boundaries for proper pairs: (1, 535)\n",
      "[M::mem_pestat] skip orientation FF\n",
      "[M::mem_pestat] skip orientation RR\n",
      "[M::mem_process_seqs] Processed 105860 reads in 4.990 CPU sec, 4.819 real sec\n",
      "[M::process] read 107254 sequences (10000094 bp)...\n",
      "[M::mem_pestat] # candidate unique pairs for (FF, FR, RF, RR): (18, 51187, 0, 16)\n",
      "[M::mem_pestat] analyzing insert size distribution for orientation FF...\n",
      "[M::mem_pestat] (25, 50, 75) percentile: (89, 126, 175)\n",
      "[M::mem_pestat] low and high boundaries for computing mean and std.dev: (1, 347)\n",
      "[M::mem_pestat] mean and std.dev: (122.25, 49.00)\n",
      "[M::mem_pestat] low and high boundaries for proper pairs: (1, 433)\n",
      "[M::mem_pestat] analyzing insert size distribution for orientation FR...\n",
      "[M::mem_pestat] (25, 50, 75) percentile: (144, 183, 229)\n",
      "[M::mem_pestat] low and high boundaries for computing mean and std.dev: (1, 399)\n",
      "[M::mem_pestat] mean and std.dev: (188.29, 63.43)\n",
      "[M::mem_pestat] low and high boundaries for proper pairs: (1, 484)\n",
      "[M::mem_pestat] skip orientation RF as there are not enough pairs\n",
      "[M::mem_pestat] analyzing insert size distribution for orientation RR...\n",
      "[M::mem_pestat] (25, 50, 75) percentile: (52, 105, 220)\n",
      "[M::mem_pestat] low and high boundaries for computing mean and std.dev: (1, 556)\n",
      "[M::mem_pestat] mean and std.dev: (120.33, 80.63)\n",
      "[M::mem_pestat] low and high boundaries for proper pairs: (1, 724)\n",
      "[M::mem_pestat] skip orientation FF\n",
      "[M::mem_pestat] skip orientation RR\n",
      "[M::mem_process_seqs] Processed 106454 reads in 5.670 CPU sec, 5.497 real sec\n",
      "[M::process] read 104410 sequences (10000094 bp)...\n",
      "[M::mem_pestat] # candidate unique pairs for (FF, FR, RF, RR): (11, 51229, 0, 13)\n",
      "[M::mem_pestat] analyzing insert size distribution for orientation FF...\n",
      "[M::mem_pestat] (25, 50, 75) percentile: (54, 90, 172)\n",
      "[M::mem_pestat] low and high boundaries for computing mean and std.dev: (1, 408)\n",
      "[M::mem_pestat] mean and std.dev: (108.73, 60.01)\n",
      "[M::mem_pestat] low and high boundaries for proper pairs: (1, 526)\n",
      "[M::mem_pestat] analyzing insert size distribution for orientation FR...\n",
      "[M::mem_pestat] (25, 50, 75) percentile: (143, 183, 228)\n",
      "[M::mem_pestat] low and high boundaries for computing mean and std.dev: (1, 398)\n",
      "[M::mem_pestat] mean and std.dev: (187.25, 62.81)\n",
      "[M::mem_pestat] low and high boundaries for proper pairs: (1, 483)\n",
      "[M::mem_pestat] skip orientation RF as there are not enough pairs\n",
      "[M::mem_pestat] analyzing insert size distribution for orientation RR...\n",
      "[M::mem_pestat] (25, 50, 75) percentile: (58, 108, 277)\n",
      "[M::mem_pestat] low and high boundaries for computing mean and std.dev: (1, 715)\n",
      "[M::mem_pestat] mean and std.dev: (144.67, 98.99)\n",
      "[M::mem_pestat] low and high boundaries for proper pairs: (1, 934)\n",
      "[M::mem_pestat] skip orientation FF\n",
      "[M::mem_pestat] skip orientation RR\n"
     ]
    },
    {
     "name": "stdout",
     "output_type": "stream",
     "text": [
      "[M::mem_process_seqs] Processed 107254 reads in 5.692 CPU sec, 5.508 real sec\n",
      "[M::process] read 37708 sequences (3545126 bp)...\n",
      "[M::mem_pestat] # candidate unique pairs for (FF, FR, RF, RR): (12, 50342, 0, 10)\n",
      "[M::mem_pestat] analyzing insert size distribution for orientation FF...\n",
      "[M::mem_pestat] (25, 50, 75) percentile: (68, 135, 213)\n",
      "[M::mem_pestat] low and high boundaries for computing mean and std.dev: (1, 503)\n",
      "[M::mem_pestat] mean and std.dev: (120.09, 68.06)\n",
      "[M::mem_pestat] low and high boundaries for proper pairs: (1, 648)\n",
      "[M::mem_pestat] analyzing insert size distribution for orientation FR...\n",
      "[M::mem_pestat] (25, 50, 75) percentile: (144, 183, 229)\n",
      "[M::mem_pestat] low and high boundaries for computing mean and std.dev: (1, 399)\n",
      "[M::mem_pestat] mean and std.dev: (188.31, 63.43)\n",
      "[M::mem_pestat] low and high boundaries for proper pairs: (1, 484)\n",
      "[M::mem_pestat] skip orientation RF as there are not enough pairs\n",
      "[M::mem_pestat] analyzing insert size distribution for orientation RR...\n",
      "[M::mem_pestat] (25, 50, 75) percentile: (102, 140, 152)\n",
      "[M::mem_pestat] low and high boundaries for computing mean and std.dev: (2, 252)\n",
      "[M::mem_pestat] mean and std.dev: (116.11, 42.39)\n",
      "[M::mem_pestat] low and high boundaries for proper pairs: (1, 302)\n",
      "[M::mem_pestat] skip orientation FF\n",
      "[M::mem_pestat] skip orientation RR\n",
      "[M::mem_process_seqs] Processed 104410 reads in 5.178 CPU sec, 5.051 real sec\n",
      "[M::mem_pestat] # candidate unique pairs for (FF, FR, RF, RR): (2, 18015, 0, 4)\n",
      "[M::mem_pestat] skip orientation FF as there are not enough pairs\n",
      "[M::mem_pestat] analyzing insert size distribution for orientation FR...\n",
      "[M::mem_pestat] (25, 50, 75) percentile: (141, 179, 224)\n",
      "[M::mem_pestat] low and high boundaries for computing mean and std.dev: (1, 390)\n",
      "[M::mem_pestat] mean and std.dev: (184.06, 61.33)\n",
      "[M::mem_pestat] low and high boundaries for proper pairs: (1, 473)\n",
      "[M::mem_pestat] skip orientation RF as there are not enough pairs\n",
      "[M::mem_pestat] skip orientation RR as there are not enough pairs\n",
      "[M::mem_process_seqs] Processed 37708 reads in 1.997 CPU sec, 1.896 real sec\n",
      "[main] Version: 0.7.17-r1188\n",
      "[main] CMD: bwa mem data/GCF_000005845.2_ASM584v2_genomic.fna.gz data/amp_res_1_trimmed.fastq data/amp_res_2_trimmed.fastq\n",
      "[main] Real time: 41.707 sec; CPU: 42.869 sec\n"
     ]
    }
   ],
   "source": [
    "! bwa mem data/GCF_000005845.2_ASM584v2_genomic.fna.gz \\\n",
    "data/amp_res_1_trimmed.fastq \\\n",
    "data/amp_res_2_trimmed.fastq |\\\n",
    "samtools view -b \\\n",
    "> data/alignment.bam"
   ]
  },
  {
   "cell_type": "markdown",
   "id": "5b6da52b",
   "metadata": {},
   "source": [
    "Basic statistics:"
   ]
  },
  {
   "cell_type": "code",
   "execution_count": 12,
   "id": "28ddefe5",
   "metadata": {},
   "outputs": [
    {
     "name": "stdout",
     "output_type": "stream",
     "text": [
      "891306 + 0 in total (QC-passed reads + QC-failed reads)\r\n",
      "891048 + 0 primary\r\n",
      "0 + 0 secondary\r\n",
      "258 + 0 supplementary\r\n",
      "0 + 0 duplicates\r\n",
      "0 + 0 primary duplicates\r\n",
      "890189 + 0 mapped (99.87% : N/A)\r\n",
      "889931 + 0 primary mapped (99.87% : N/A)\r\n",
      "891048 + 0 paired in sequencing\r\n",
      "445524 + 0 read1\r\n",
      "445524 + 0 read2\r\n",
      "887108 + 0 properly paired (99.56% : N/A)\r\n",
      "888960 + 0 with itself and mate mapped\r\n",
      "971 + 0 singletons (0.11% : N/A)\r\n",
      "0 + 0 with mate mapped to a different chr\r\n",
      "0 + 0 with mate mapped to a different chr (mapQ>=5)\r\n"
     ]
    }
   ],
   "source": [
    "! samtools flagstat data/alignment.bam"
   ]
  },
  {
   "cell_type": "markdown",
   "id": "9172e85c",
   "metadata": {},
   "source": [
    "99.87% of reads are mapped."
   ]
  },
  {
   "cell_type": "markdown",
   "id": "04e590ab",
   "metadata": {},
   "source": [
    "Sort and index .bam file"
   ]
  },
  {
   "cell_type": "code",
   "execution_count": 18,
   "id": "f9b1ab19",
   "metadata": {},
   "outputs": [],
   "source": [
    "! samtools sort data/alignment.bam > data/alignment_sorted.bam\n",
    "! samtools index data/alignment_sorted.bam"
   ]
  },
  {
   "cell_type": "markdown",
   "id": "615f32df",
   "metadata": {},
   "source": [
    "##### 7. Variant calling"
   ]
  },
  {
   "cell_type": "markdown",
   "id": "fb993c6b",
   "metadata": {},
   "source": [
    "Create .mpileup file."
   ]
  },
  {
   "cell_type": "code",
   "execution_count": 21,
   "id": "07c7d509",
   "metadata": {},
   "outputs": [
    {
     "name": "stdout",
     "output_type": "stream",
     "text": [
      "[mpileup] 1 samples in 1 input files\r\n"
     ]
    }
   ],
   "source": [
    "! samtools mpileup -f data/GCF_000005845.2_ASM584v2_genomic.fna data/alignment_sorted.bam >  data/my.mpileup"
   ]
  },
  {
   "cell_type": "markdown",
   "id": "e26d367a",
   "metadata": {},
   "source": [
    "Write SNPs supported by at least *50%* of reads into .vcf file.\n",
    "\n",
    "Nothing changes if set greater `--min-var-freq`. With 90% there are all same SNPs, but no indels, which are not shown in IGV anyway. "
   ]
  },
  {
   "cell_type": "code",
   "execution_count": 1,
   "id": "00673853",
   "metadata": {},
   "outputs": [
    {
     "name": "stdout",
     "output_type": "stream",
     "text": [
      "Only SNPs will be reported\n",
      "Warning: No p-value threshold provided, so p-values will not be calculated\n",
      "Min coverage:\t8\n",
      "Min reads2:\t2\n",
      "Min var freq:\t0.2\n",
      "Min avg qual:\t15\n",
      "P-value thresh:\t0.01\n",
      "Reading input from data/my.mpileup\n",
      "4641514 bases in pileup file\n",
      "9 variant positions (6 SNP, 3 indel)\n",
      "0 were failed by the strand-filter\n",
      "6 variant positions reported (6 SNP, 0 indel)\n"
     ]
    }
   ],
   "source": [
    "! java -jar VarScan.v2.4.4.jar  \\\n",
    "mpileup2snp data/my.mpileup \\\n",
    "--min-var-freq 0.5 \\\n",
    "--variants --output-vcf 1 \\\n",
    "> data/VarScan_results.vcf"
   ]
  },
  {
   "cell_type": "markdown",
   "id": "267da552",
   "metadata": {},
   "source": [
    "Manually inspected (IGV) mutated genes are:\n",
    "\n",
    "acrB: https://www.uniprot.org/uniprotkb/P31224/entry : missense\n",
    "\n",
    "ftsI: https://www.uniprot.org/uniprotkb/P0AD68/entry : missense \n",
    "\n",
    "rybA: https://www.ncbi.nlm.nih.gov/gene/2847681 : ?\n",
    "\n",
    "mntP: https://www.uniprot.org/uniprotkb/Q8Z670/entry : missense\n",
    "\n",
    "rsgA: https://www.uniprot.org/uniprotkb/P39286/entry : synonymous\n",
    "\n",
    "envZ: https://www.uniprot.org/uniprotkb/P0AEJ4/entry : missense"
   ]
  },
  {
   "cell_type": "markdown",
   "id": "d66ffcee",
   "metadata": {},
   "source": [
    "##### 8. Automatic SNP annotation"
   ]
  },
  {
   "cell_type": "markdown",
   "id": "4eadf63f",
   "metadata": {},
   "source": [
    "Download [SnpEff](http://pcingola.github.io/SnpEff/) and extract `snpEff.jar`in project directory.\n",
    "\n",
    "Download [`.gbff` file](https://ftp.ncbi.nlm.nih.gov/genomes/all/GCF/000/005/845/GCF_000005845.2_ASM584v2/GCF_000005845.2_ASM584v2_genomic.gbff.gz) in `data/` subfolder.\n",
    "\n",
    "Then make `.config` file:"
   ]
  },
  {
   "cell_type": "code",
   "execution_count": 12,
   "id": "0198e00c",
   "metadata": {},
   "outputs": [],
   "source": [
    "! echo k12.genome : ecoli_K12 > snpEff.config "
   ]
  },
  {
   "cell_type": "markdown",
   "id": "4f20c4c0",
   "metadata": {},
   "source": [
    "Unarchive and rename reference genome file."
   ]
  },
  {
   "cell_type": "code",
   "execution_count": 5,
   "id": "dcb5343e",
   "metadata": {},
   "outputs": [],
   "source": [
    "! mkdir data/k12\n",
    "! gunzip data/GCF_000005845.2_ASM584v2_genomic.gbff.gz\n",
    "! cp data/GCF_000005845.2_ASM584v2_genomic.gbff data/k12/genes.gbk "
   ]
  },
  {
   "cell_type": "markdown",
   "id": "497c90cc",
   "metadata": {},
   "source": [
    "Create database."
   ]
  },
  {
   "cell_type": "code",
   "execution_count": 13,
   "id": "cf969401",
   "metadata": {},
   "outputs": [
    {
     "name": "stdout",
     "output_type": "stream",
     "text": [
      "00:00:00 SnpEff version SnpEff 5.1d (build 2022-04-19 15:49), by Pablo Cingolani\n",
      "00:00:00 Command: 'build'\n",
      "00:00:00 Building database for 'k12'\n",
      "00:00:00 Reading configuration file 'snpEff.config'. Genome: 'k12'\n",
      "00:00:00 Reading config file: /home/quasicephalus/BI/Workshop/project1/snpEff.config\n",
      "00:00:00 done\n",
      "00:00:01 Chromosome: 'NC_000913.3'\tlength: 4641652\n",
      "00:00:01 Create exons from CDS (if needed): \n",
      ".................................................................................................................................................................................................................................................................................................................................................................................................................................................................................................................................................................................................................................................................................................................................................................................................................................................................................................................................................................................................................................................................................................................................................................................................................................................................................................................................................................................................................................................................................................................................................................................................................................................................................................................................................................................................................................................................................................................................................................................................................................................................................................................................................................................................................................................................................................................................................................................................................................................................................................................................................................................................................................................................................................................................................................................................................................................................................................................................................................................................................................................................................................................................................................................................................................................................................................................................................................................................................................................................................................................................................................................................................................................................................................................................................................................................................................................................................................................................................................................................................................................................................................................................................................................................................................................................................................................................................................................................................................................................................................................00:00:01 Exons created for 4315 transcripts.\n",
      "00:00:01 Deleting redundant exons (if needed): \n",
      "00:00:01 \tTotal transcripts with deleted exons: 0\n",
      "00:00:01 Collapsing zero length introns (if needed): \n",
      ".\n",
      "\t\t0\t00:00:01 \tTotal collapsed transcripts: 1\n",
      "00:00:01 \t\tAdding genomic sequences to genes: \n",
      "00:00:01 \tDone (3796 sequences added).\n",
      "00:00:01 \t\tAdding genomic sequences to exons: \n",
      "00:00:02 \tDone (4336 sequences added, 0 ignored).\n",
      "00:00:02 Finishing up genome\n",
      "00:00:02 Adjusting transcripts: \n",
      "00:00:02 Adjusting genes: \n",
      ".00:00:02 Adjusting chromosomes lengths: \n",
      "00:00:02 Ranking exons: \n",
      "00:00:02 Create UTRs from CDS (if needed): \n",
      "00:00:02 Remove empty chromosomes: \n",
      "00:00:02 Marking as 'coding' from CDS information: \n",
      "00:00:02 Done: 17 transcripts marked\n",
      "00:00:02 \n",
      "00:00:02 Caracterizing exons by splicing (stage 1) : \n",
      "\t....\n",
      "00:00:02 Caracterizing exons by splicing (stage 2) : \n",
      "\t....00:00:02 done.\n",
      "00:00:02 [Optional] Rare amino acid annotations\n",
      "WARNING_FILE_NOT_FOUND: Rare Amino Acid analysis: Cannot read protein sequence file '/home/quasicephalus/BI/Workshop/project1/./data/k12/protein.fa', nothing done.\n",
      "00:00:02 CDS check: GenBank file format, skipping\n",
      "\n",
      "00:00:02 Protein check file: '/home/quasicephalus/BI/Workshop/project1/./data/k12/genes.gbk'\n",
      "\n",
      "00:00:02 Checking database using protein sequences\n",
      "00:00:02 Comparing Proteins...\n",
      "\tLabels:\n",
      "\t\t'+' : OK\n",
      "\t\t'.' : Missing\n",
      "\t\t'*' : Error\n",
      "\t+++++++++++++++++++++++++++++++++++++++++++++++++++++++++++++++++++++++++++++++++++++++++++++++++++\n",
      "\t++++++++++++++++++++++++++++++++++++++++++++++++++++++++++++++++++++++++++++++++++++++++++++++++++++\n",
      "\t++++++++++++++++++++++++++++++++++++++++++++++++++++++++++++++++++++++++++++++++++++++++++++++++++++\n",
      "\t++++++++++++++++++++++++++++++++++++++++++++++++++++++++++++++++++++++++++++++++++++++++++++++++++++\n",
      "\t++++++++++++++++++++++++++++++++++++++++++++++++++++++++++++++++++++++++++++++++++++++++++++++++++++\n",
      "\t++++++++++++++++++++++++++++++++++++++++++++++++++++++++++++++++++++++++++++++++++++++++++++++++++++\n",
      "\t++++++++++++++++++++++++++++++++++++++++++++++++++++++++++++++++++++++++++++++++++++++++++++++++++++\n",
      "\t++++++++++++++++++++++++++++++++++++++++++++++++++++++++++++++++++++++++++++++++++++++++++++++++++++\n",
      "\t++++++++++++++++++++++++++++++++++++++++++++++++++++++++++++++++++++++++++++++++++++++++++++++++++++\n",
      "\t++++++++++++++++++++++++++++++++++++++++++++++++++++++++++++++++++++++++++++++++++++++++++++++++++++\n",
      "\t++++++++++++++++++++++++++++++++++++++++++++++++++++++++++++++++++++++++++++++++++++++++++++++++++++\n",
      "\t+++++++++++++++++++++++++++++++++.++++++++++++++++++++++++++++++++++++++++++++++++++++++++++++++++++\n",
      "\t+++++++++++++++++++++++++++++++++++++++++++++++++++++++++++++++++++++.++++++++++++++++++++++++++++++\n",
      "\t++++++++++++++++++++++++++++++++++++++++++++++++++++++++++++++++++++++++++++++++++++++++++++++++++++\n",
      "\t++++++++++++++++++++++++++++++++++++++++++++++++++++++++++++++++++++++++++++++++++++++++++++++++++++\n",
      "\t++++++++++++++++++++++++++++++++++++++++++++++++++++++++++++++++++++++++++++++++++++++++++++++++++++\n",
      "\t++++++++++++++++++++++++++++++++++++++++++++++++++++++++++++++++++++++++++++++++++++++++++++++++++++\n",
      "\t+++++++++++++++++++.++++++++++++++++++++++++++++++++++++++++++++++++++++++++++++++++++++++++++++++++\n",
      "\t++++++++++++++++++++++++++++++++++++++++++++++++++++++++++++++++++++++++++++++++++++++++++++++++++++\n",
      "\t++++++++++++++++++++++++++++++++++++++++++++++++++++++++++++++++++++++++++++++++++++++++++++++++++++\n",
      "\t++++++++++++++++++++++++++++++++++++++++++++++++++++++++++++++++++++++++++++++++++++++++++++++++++++\n"
     ]
    },
    {
     "name": "stdout",
     "output_type": "stream",
     "text": [
      "\t++++++++++++++++++++++++++++++++++++++++++++++++++++++++++++++++++++++++++++++++++++++++++++++++++++\n",
      "\t++++++++++++++++++++++++++++++++++++++++++++++++++++++++++++++++++++++++++++++++++++++++++++++++++++\n",
      "\t++++++++++++++++++++++++++++++++++++++++++++++++++++++++++++++++++++++++++++++++++++++++++++++++++++\n",
      "\t++++++++++++++++++++++++++++++++++++++++++++++++++++++++++++++++++++++++++++++++++++++++++++++++++++\n",
      "\t++++++++++++++++++++++++++++++++++++++++++++++++++++++++++++++++++++++++++++++++++++++++++++++++++++\n",
      "\t++++++++++++++++++++++++++++++++++++++++++++++++++++++++++++++++++++++++++++++++++++++++++++++++++++\n",
      "\t++++++++++++++++++++++++++++++++++++++++++++++++++++++++++++++++++++++++++++++++++++++++++++++++++++\n",
      "\t+++++++++++++++++++++++++++++++++++++++++++++++++++++++++++++++++++++..+++++++++.+++++++++++++++++++\n",
      "\t+++++++++++++++++++++++++++++++++++++++++++++++++++++++++++++++++++++++++++++++++++++++++++++++++++.\n",
      "\t+.++++..+++++++++++++++++++.++++++++++++++++++++++++++++++++++++++++++++++++++++++++++++++++++++++++\n",
      "\t++++++++++++++++++++++++++++++++++++++++++++++++++++++++++++++++++.+++++++++++++++++++++++++++++++++\n",
      "\t++++++++++++++++++++++++++++++++++++++++++++++++++++++++++++++++++++++++++++++++++++++++++++++++++++\n",
      "\t++++++++++++++++++++++++++++++++++++++++++++++++++++++++++++++++++++++++++++++++++++++++++++++++++++\n",
      "\t++++++++++++++++++++++++++++++++++++++++++++++++++++++++++++++++++++++++++++++++++++++++++++++++++++\n",
      "\t++++++++++++++++++++++++++++++++++++++++++++++++++++++++++++++++++++++++++++++++++++++++++++++++++++\n",
      "\t++++++++++++++++++++++++++++++++++++++++++++++++++++++++++++++++++++++++++++++++++++++++++++++++++++\n",
      "\t++++++++++++++++++++++++++++++++++++++++++++++++++++++++++++++++++++++++++++++++++++++++++++++++++++\n",
      "\t+++.+++++++++++++++++++.++++++++++++++++++++++++++++++++++++++++++++++++++++++++++++++++++++++++++++\n",
      "\t+++++++++++++++++++++++++++++++++++++++++++++++++++++++.+++++++.++++++++++++++++++++++++++++++++++++\n",
      "\t+++++++++++++++++++++++++++++++++++++++++.++++++++++++++++++++++++++++++++++++++++++++++++++++++++++\n",
      "\t++++++++++++++++++++++++++++++++++++++++++++++++++++++++++++++++++++++++++++++++++++++++++++++++++++\n",
      "\t++++++++++++++++++++++++++++++++++++++++++++++++++++++++++++++++++++++++++++++++++++++++++++++++++++\n",
      "\t++++++++++++++++00:00:03 \n",
      "\n",
      "\tProtein check:\tk12\tOK: 4298\tNot found: 17\tErrors: 0\tError percentage: 0.0%\n",
      "00:00:03 Saving database\n",
      "00:00:04 Saving sequences for chromosome 'NC_000913.3' to file '/home/quasicephalus/BI/Workshop/project1/./data/k12/sequence.NC_000913.3.bin'\n",
      "00:00:05 [Optional] Reading regulation elements: GFF\n",
      "WARNING_FILE_NOT_FOUND: Cannot read optional regulation file '/home/quasicephalus/BI/Workshop/project1/./data/k12/regulation.gff', nothing done.\n",
      "00:00:05 [Optional] Reading regulation elements: BED \n",
      "00:00:05 Cannot find optional regulation dir '/home/quasicephalus/BI/Workshop/project1/./data/k12/regulation.bed/', nothing done.\n",
      "00:00:05 [Optional] Reading motifs: GFF\n",
      "WARNING_FILE_NOT_FOUND: Cannot open PWMs file /home/quasicephalus/BI/Workshop/project1/./data/k12/pwms.bin. Nothing done\n",
      "00:00:05 Done\n",
      "00:00:05 Logging\n",
      "00:00:06 Checking for updates...\n",
      "00:00:06 Done.\n"
     ]
    }
   ],
   "source": [
    "! java -jar snpEff.jar build -genbank -v k12"
   ]
  },
  {
   "cell_type": "markdown",
   "id": "87df8111",
   "metadata": {},
   "source": [
    "Annotate `.vcf` file and open it in IGV."
   ]
  },
  {
   "cell_type": "code",
   "execution_count": 14,
   "id": "e0276263",
   "metadata": {},
   "outputs": [],
   "source": [
    "! java -jar snpEff.jar ann k12 data/VarScan_results.vcf > data/VarScan_results_annotated.vcf"
   ]
  },
  {
   "cell_type": "markdown",
   "id": "ca6d883d",
   "metadata": {},
   "source": [
    "SnpEff has confirmed manually obtained results, but now we have information about exact aminoacid changes in gene products:\n",
    "\n",
    "ftsI : Ala544gly\n",
    "\n",
    "acrB: Gln569Leu\n",
    "\n",
    "mntP: Gly25Asp\n",
    "\n",
    "envZ: Val241Gly\n",
    "\n",
    "rsgA: Silent"
   ]
  }
 ],
 "metadata": {
  "kernelspec": {
   "display_name": "Python 3 (ipykernel)",
   "language": "python",
   "name": "python3"
  },
  "language_info": {
   "codemirror_mode": {
    "name": "ipython",
    "version": 3
   },
   "file_extension": ".py",
   "mimetype": "text/x-python",
   "name": "python",
   "nbconvert_exporter": "python",
   "pygments_lexer": "ipython3",
   "version": "3.10.6"
  }
 },
 "nbformat": 4,
 "nbformat_minor": 5
}
