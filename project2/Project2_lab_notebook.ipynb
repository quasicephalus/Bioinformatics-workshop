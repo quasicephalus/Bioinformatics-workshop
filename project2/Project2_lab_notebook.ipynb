{
 "cells": [
  {
   "cell_type": "markdown",
   "id": "c021293a",
   "metadata": {},
   "source": [
    "# Project 2 Lab notebook\n",
    "\n",
    "Fiippov M. @pseudocephalus\n",
    "\n",
    " _To run code directly from notebook one should place it in project directory with `/data` subfolder in it._"
   ]
  },
  {
   "cell_type": "markdown",
   "id": "6b373427",
   "metadata": {},
   "source": [
    "Reference genome: https://www.ncbi.nlm.nih.gov/nuccore/KF848938.1?report=fasta\n"
   ]
  },
  {
   "cell_type": "markdown",
   "id": "63844447",
   "metadata": {},
   "source": [
    "Sequencing data: http://ftp.sra.ebi.ac.uk/vol1/fastq/SRR170/001/SRR1705851/\n"
   ]
  },
  {
   "cell_type": "markdown",
   "id": "ea289dc8",
   "metadata": {},
   "source": [
    "Place both in `/data`, unarchive and rename"
   ]
  },
  {
   "cell_type": "code",
   "execution_count": null,
   "id": "f9666878",
   "metadata": {},
   "outputs": [],
   "source": [
    "! gunzip  data/*.gz\n",
    "! mv data/*.fastq data/reads.fastq\n",
    "! mv data/*.fasta data/ref.fasta"
   ]
  },
  {
   "cell_type": "code",
   "execution_count": null,
   "id": "bf65dc41",
   "metadata": {},
   "outputs": [],
   "source": [
    "! bwa index data/ref.fasta"
   ]
  },
  {
   "cell_type": "code",
   "execution_count": null,
   "id": "98166e25",
   "metadata": {},
   "outputs": [],
   "source": [
    "! bwa mem data/ref.fasta data/reads.fastq | samtools view -S -b - | samtools sort - > data/sorted.bam"
   ]
  },
  {
   "cell_type": "code",
   "execution_count": null,
   "id": "1fb7df9b",
   "metadata": {},
   "outputs": [],
   "source": [
    "! samtools index data/sorted.bam"
   ]
  },
  {
   "cell_type": "code",
   "execution_count": 1,
   "id": "80bf32b5",
   "metadata": {},
   "outputs": [
    {
     "name": "stdout",
     "output_type": "stream",
     "text": [
      "361349 + 0 in total (QC-passed reads + QC-failed reads)\r\n",
      "358265 + 0 primary\r\n",
      "0 + 0 secondary\r\n",
      "3084 + 0 supplementary\r\n",
      "0 + 0 duplicates\r\n",
      "0 + 0 primary duplicates\r\n",
      "361116 + 0 mapped (99.94% : N/A)\r\n",
      "358032 + 0 primary mapped (99.93% : N/A)\r\n",
      "0 + 0 paired in sequencing\r\n",
      "0 + 0 read1\r\n",
      "0 + 0 read2\r\n",
      "0 + 0 properly paired (N/A : N/A)\r\n",
      "0 + 0 with itself and mate mapped\r\n",
      "0 + 0 singletons (N/A : N/A)\r\n",
      "0 + 0 with mate mapped to a different chr\r\n",
      "0 + 0 with mate mapped to a different chr (mapQ>=5)\r\n"
     ]
    }
   ],
   "source": [
    "! samtools flagstat data/sorted.bam"
   ]
  },
  {
   "cell_type": "markdown",
   "id": "8d0ba452",
   "metadata": {},
   "source": [
    "Reference genome has length of 1665 bp and sequencing has 358265 reads with average length of 93 bp, so estimated coverage is \n",
    "\n",
    "358265 * 93 / 1665 = 20011"
   ]
  },
  {
   "cell_type": "code",
   "execution_count": 29,
   "id": "28717a8f",
   "metadata": {},
   "outputs": [
    {
     "name": "stdout",
     "output_type": "stream",
     "text": [
      "[mpileup] 1 samples in 1 input files\r\n"
     ]
    }
   ],
   "source": [
    "! samtools mpileup -d 21000 -f data/ref.fasta data/sorted.bam > data/reads.mpileup"
   ]
  },
  {
   "cell_type": "code",
   "execution_count": 3,
   "id": "87a6ba2c",
   "metadata": {},
   "outputs": [
    {
     "name": "stdout",
     "output_type": "stream",
     "text": [
      "Only SNPs will be reported\n",
      "Warning: No p-value threshold provided, so p-values will not be calculated\n",
      "Min coverage:\t8\n",
      "Min reads2:\t2\n",
      "Min var freq:\t0.95\n",
      "Min avg qual:\t15\n",
      "P-value thresh:\t0.01\n",
      "Reading input from data/reads.mpileup\n",
      "1665 bases in pileup file\n",
      "5 variant positions (5 SNP, 0 indel)\n",
      "0 were failed by the strand-filter\n",
      "5 variant positions reported (5 SNP, 0 indel)\n"
     ]
    }
   ],
   "source": [
    "! java -jar VarScan.v2.4.4.jar mpileup2snp data/reads.mpileup --min-var-freq 0.95 --variants --output-vcf 1 > data/VarScan_results.vcf\n"
   ]
  },
  {
   "cell_type": "code",
   "execution_count": 19,
   "id": "dc3f6dc3",
   "metadata": {},
   "outputs": [
    {
     "name": "stdout",
     "output_type": "stream",
     "text": [
      "KF848938.1 72 A G\r\n",
      "KF848938.1 117 C T\r\n",
      "KF848938.1 165 T C\r\n",
      "KF848938.1 307 C T\r\n",
      "KF848938.1 389 T C\r\n",
      "KF848938.1 722 A G\r\n",
      "KF848938.1 774 T C\r\n",
      "KF848938.1 802 A G\r\n",
      "KF848938.1 913 T C\r\n",
      "KF848938.1 915 T C\r\n",
      "KF848938.1 999 C T\r\n",
      "KF848938.1 1086 A G\r\n",
      "KF848938.1 1213 A G\r\n",
      "KF848938.1 1260 A C\r\n",
      "KF848938.1 1280 T C\r\n",
      "KF848938.1 1458 T C\r\n"
     ]
    }
   ],
   "source": [
    "! cat data/VarScan_results.vcf | awk 'NR>24 {print $1, $2, $4, $5}'"
   ]
  },
  {
   "cell_type": "markdown",
   "id": "252e9c14",
   "metadata": {},
   "source": [
    "Inspection in IGV showed that they are all silent"
   ]
  },
  {
   "cell_type": "code",
   "execution_count": 30,
   "id": "fca6dcb3",
   "metadata": {},
   "outputs": [
    {
     "name": "stdout",
     "output_type": "stream",
     "text": [
      "Only SNPs will be reported\n",
      "Warning: No p-value threshold provided, so p-values will not be calculated\n",
      "Min coverage:\t8\n",
      "Min reads2:\t2\n",
      "Min var freq:\t0.001\n",
      "Min avg qual:\t15\n",
      "P-value thresh:\t0.01\n",
      "Reading input from data/reads.mpileup\n",
      "1665 bases in pileup file\n",
      "23 variant positions (21 SNP, 2 indel)\n",
      "0 were failed by the strand-filter\n",
      "21 variant positions reported (21 SNP, 0 indel)\n"
     ]
    }
   ],
   "source": [
    "! java -jar VarScan.v2.4.4.jar mpileup2snp data/reads.mpileup --min-var-freq 0.001 --variants --output-vcf 1 > data/VarScan_results.vcf\n"
   ]
  },
  {
   "cell_type": "code",
   "execution_count": 31,
   "id": "240492de",
   "metadata": {},
   "outputs": [
    {
     "name": "stdout",
     "output_type": "stream",
     "text": [
      "72 A G 1/1:255:16832:16794:6:16787:99.96%:0E0:35:36:4:2:10898:5889\r\n",
      "117 C T 1/1:255:20768:20663:36:20625:99.82%:0E0:35:37:27:9:13462:7163\r\n",
      "254 A G 0/1:20:35781:35626:35562:59:0.17%:8.5683E-3:36:36:23919:11643:37:22\r\n",
      "276 A G 0/1:24:37022:36965:36892:64:0.17%:3.3004E-3:37:35:22579:14313:30:34\r\n",
      "307 C T 0/1:255:37506:37386:37029:351:0.94%:6.9068E-66:36:35:22400:14629:184:167\r\n",
      "340 T C 0/1:23:37973:37793:37723:64:0.17%:4.6441E-3:37:36:23413:14310:40:24\r\n",
      "389 T C 0/1:40:31960:31763:31690:69:0.22%:9.0525E-5:37:36:16067:15623:44:25\r\n",
      "691 A G 0/1:23:39503:39319:39245:67:0.17%:4.1867E-3:37:34:21313:17932:23:44\r\n",
      "722 A G 0/1:36:38090:38036:37954:76:0.2%:2.353E-4:37:36:21003:16951:39:37\r\n",
      "744 A G 0/1:23:38443:38380:38306:65:0.17%:5.0068E-3:37:33:20859:17447:35:30\r\n",
      "774 T C 1/1:255:38397:38191:8:38177:99.96%:0E0:32:37:7:1:19806:18371\r\n",
      "802 A G 0/1:59:44236:44106:44001:101:0.23%:1.2224E-6:37:35:20575:23426:32:69\r\n",
      "859 A G 0/1:25:35895:35721:35655:63:0.18%:3.0291E-3:37:36:14499:21156:27:36\r\n",
      "915 T C 0/1:30:37022:36921:36842:69:0.19%:8.2327E-4:35:34:18059:18783:37:32\r\n",
      "999 C T 1/1:255:32561:32115:40:32070:99.86%:0E0:35:36:23:17:17184:14886\r\n",
      "1043 A G 0/1:25:31638:31590:31529:58:0.18%:2.756E-3:35:33:17353:14176:19:39\r\n",
      "1086 A G 0/1:29:25259:25258:25203:53:0.21%:1.0076E-3:36:35:12596:12607:21:32\r\n",
      "1213 A G 0/1:34:25177:25093:25035:56:0.22%:3.7244E-4:37:36:8964:16071:24:32\r\n",
      "1260 A C 1/1:255:23067:23033:2:23019:99.94%:0E0:32:37:0:2:9824:13195\r\n",
      "1280 T C 0/1:20:23487:23462:23418:43:0.18%:9.2875E-3:37:35:11147:12271:24:19\r\n",
      "1458 T C 0/1:255:27064:26929:26701:225:0.84%:3.4507E-41:37:35:6865:19836:80:145\r\n"
     ]
    }
   ],
   "source": [
    "! cat data/VarScan_results.vcf | awk 'NR>24 {print $2, $4, $5 ,$10}'"
   ]
  },
  {
   "cell_type": "markdown",
   "id": "08bc6b7b",
   "metadata": {},
   "source": [
    "16 SNPs was detected with such low min freq with average frequency below 1%. There are two most frequent of rare vaeriants with frequencies of **0.92%** and **0.86%**"
   ]
  },
  {
   "cell_type": "markdown",
   "id": "3b893b90",
   "metadata": {},
   "source": [
    "Download reference sequencing data\n",
    "\n",
    "SRR1705858: ftp://ftp.sra.ebi.ac.uk/vol1/fastq/SRR170/008/SRR1705858/SRR1705858.fastq.gz \n",
    "\n",
    "SRR1705859: ftp://ftp.sra.ebi.ac.uk/vol1/fastq/SRR170/009/SRR1705859/SRR1705859.fastq.gz \n",
    "\n",
    "SRR1705860: ftp://ftp.sra.ebi.ac.uk/vol1/fastq/SRR170/000/SRR1705860/SRR1705860.fastq.gz \n",
    "\n",
    "unarchive them in `/data`\n"
   ]
  },
  {
   "cell_type": "code",
   "execution_count": 7,
   "id": "21a7bf26",
   "metadata": {},
   "outputs": [],
   "source": [
    "! fastqc data/SRR*"
   ]
  },
  {
   "cell_type": "markdown",
   "id": "3175955d",
   "metadata": {},
   "source": [
    "SRR1705858: 256586 reads\n",
    "\n",
    "SRR1705859: 233327 reads\n",
    "\n",
    "SRR1705860: 249964 reads\n",
    "\n",
    "Average 246626 reads, coverage = **13775**"
   ]
  },
  {
   "cell_type": "code",
   "execution_count": 10,
   "id": "c67f8450",
   "metadata": {},
   "outputs": [],
   "source": [
    "! bwa mem data/ref.fasta data/SRR1705858.fastq | samtools view -S -b - | samtools sort - > data/sorted58.bam\n",
    "! samtools index data/sorted58.bam"
   ]
  },
  {
   "cell_type": "code",
   "execution_count": 11,
   "id": "d7b17320",
   "metadata": {},
   "outputs": [
    {
     "name": "stdout",
     "output_type": "stream",
     "text": [
      "[M::bwa_idx_load_from_disk] read 0 ALT contigs\n",
      "[M::process] read 67476 sequences (10000274 bp)...\n",
      "[M::process] read 67236 sequences (10000039 bp)...\n",
      "[M::mem_process_seqs] Processed 67476 reads in 1.895 CPU sec, 1.795 real sec\n",
      "[M::process] read 67216 sequences (10000283 bp)...\n",
      "[M::mem_process_seqs] Processed 67236 reads in 2.087 CPU sec, 1.946 real sec\n",
      "[M::process] read 31399 sequences (4635971 bp)...\n",
      "[M::mem_process_seqs] Processed 67216 reads in 2.439 CPU sec, 2.338 real sec\n",
      "[M::mem_process_seqs] Processed 31399 reads in 1.275 CPU sec, 1.221 real sec\n",
      "[main] Version: 0.7.17-r1188\n",
      "[main] CMD: bwa mem data/ref.fasta data/SRR1705859.fastq\n",
      "[main] Real time: 7.597 sec; CPU: 7.809 sec\n"
     ]
    }
   ],
   "source": [
    "! bwa mem data/ref.fasta data/SRR1705859.fastq | samtools view -S -b - | samtools sort - > data/sorted59.bam\n",
    "! samtools index data/sorted59.bam"
   ]
  },
  {
   "cell_type": "code",
   "execution_count": 12,
   "id": "858cad3f",
   "metadata": {},
   "outputs": [
    {
     "name": "stdout",
     "output_type": "stream",
     "text": [
      "[M::bwa_idx_load_from_disk] read 0 ALT contigs\n",
      "[M::process] read 67356 sequences (10000126 bp)...\n",
      "[M::process] read 67208 sequences (10000122 bp)...\n",
      "[M::mem_process_seqs] Processed 67356 reads in 1.817 CPU sec, 1.742 real sec\n",
      "[M::process] read 67010 sequences (10000072 bp)...\n",
      "[M::mem_process_seqs] Processed 67208 reads in 2.108 CPU sec, 1.986 real sec\n",
      "[M::process] read 48390 sequences (7170166 bp)...\n",
      "[M::mem_process_seqs] Processed 67010 reads in 2.175 CPU sec, 2.052 real sec\n",
      "[M::mem_process_seqs] Processed 48390 reads in 1.624 CPU sec, 1.557 real sec\n",
      "[main] Version: 0.7.17-r1188\n",
      "[main] CMD: bwa mem data/ref.fasta data/SRR1705860.fastq\n",
      "[main] Real time: 7.736 sec; CPU: 7.855 sec\n"
     ]
    }
   ],
   "source": [
    "! bwa mem data/ref.fasta data/SRR1705860.fastq | samtools view -S -b - | samtools sort - > data/sorted60.bam\n",
    "! samtools index data/sorted60.bam"
   ]
  },
  {
   "cell_type": "code",
   "execution_count": 13,
   "id": "48c39678",
   "metadata": {},
   "outputs": [
    {
     "name": "stdout",
     "output_type": "stream",
     "text": [
      "[mpileup] 1 samples in 1 input files\n",
      "[mpileup] 1 samples in 1 input files\n",
      "[mpileup] 1 samples in 1 input files\n"
     ]
    }
   ],
   "source": [
    "! samtools mpileup -d 14000 -f data/ref.fasta data/sorted58.bam > data/58.mpileup\n",
    "! samtools mpileup -d 14000 -f data/ref.fasta data/sorted59.bam > data/59.mpileup\n",
    "! samtools mpileup -d 14000 -f data/ref.fasta data/sorted60.bam > data/60.mpileup"
   ]
  },
  {
   "cell_type": "code",
   "execution_count": 14,
   "id": "deb59832",
   "metadata": {},
   "outputs": [
    {
     "name": "stdout",
     "output_type": "stream",
     "text": [
      "Only SNPs will be reported\n",
      "Warning: No p-value threshold provided, so p-values will not be calculated\n",
      "Min coverage:\t8\n",
      "Min reads2:\t2\n",
      "Min var freq:\t0.001\n",
      "Min avg qual:\t15\n",
      "P-value thresh:\t0.01\n",
      "Reading input from data/58.mpileup\n",
      "1665 bases in pileup file\n",
      "45 variant positions (45 SNP, 0 indel)\n",
      "1 were failed by the strand-filter\n",
      "44 variant positions reported (44 SNP, 0 indel)\n",
      "Only SNPs will be reported\n",
      "Warning: No p-value threshold provided, so p-values will not be calculated\n",
      "Min coverage:\t8\n",
      "Min reads2:\t2\n",
      "Min var freq:\t0.001\n",
      "Min avg qual:\t15\n",
      "P-value thresh:\t0.01\n",
      "Reading input from data/59.mpileup\n",
      "1665 bases in pileup file\n",
      "39 variant positions (39 SNP, 0 indel)\n",
      "1 were failed by the strand-filter\n",
      "38 variant positions reported (38 SNP, 0 indel)\n",
      "Only SNPs will be reported\n",
      "Warning: No p-value threshold provided, so p-values will not be calculated\n",
      "Min coverage:\t8\n",
      "Min reads2:\t2\n",
      "Min var freq:\t0.001\n",
      "Min avg qual:\t15\n",
      "P-value thresh:\t0.01\n",
      "Reading input from data/60.mpileup\n",
      "1665 bases in pileup file\n",
      "41 variant positions (41 SNP, 0 indel)\n",
      "0 were failed by the strand-filter\n",
      "41 variant positions reported (41 SNP, 0 indel)\n"
     ]
    }
   ],
   "source": [
    "! java -jar VarScan.v2.4.4.jar mpileup2snp data/58.mpileup --min-var-freq 0.001 --variants --output-vcf 1 > data/VarScan_results58.vcf\n",
    "! java -jar VarScan.v2.4.4.jar mpileup2snp data/59.mpileup --min-var-freq 0.001 --variants --output-vcf 1 > data/VarScan_results59.vcf\n",
    "! java -jar VarScan.v2.4.4.jar mpileup2snp data/60.mpileup --min-var-freq 0.001 --variants --output-vcf 1 > data/VarScan_results60.vcf\n"
   ]
  },
  {
   "cell_type": "code",
   "execution_count": 25,
   "id": "e9b813ef",
   "metadata": {},
   "outputs": [
    {
     "name": "stdout",
     "output_type": "stream",
     "text": [
      "38 T C 0/1:37:2740:2740:2722:18:0.66%:1.968E-4:35:31:2071:651:17:1\r\n",
      "54 T C 0/1:24:5689:5658:5639:19:0.34%:3.2778E-3:35:32:4670:969:18:1\r\n",
      "72 A G 0/1:26:5817:5814:5794:20:0.34%:2.0196E-3:38:37:4811:983:18:2\r\n",
      "117 C T 0/1:31:7877:7848:7822:26:0.33%:6.5198E-4:37:36:6579:1243:23:3\r\n",
      "165 T C 0/1:36:13756:13680:13640:39:0.29%:2.0227E-4:36:33:11366:2274:35:4\r\n",
      "183 A G 0/1:48:13310:13214:13166:45:0.34%:1.4771E-5:36:34:10590:2576:39:6\r\n",
      "218 A G 0/1:36:13715:13711:13671:39:0.28%:2.0227E-4:36:34:10651:3020:29:10\r\n",
      "222 T C 0/1:21:13732:13673:13643:30:0.22%:6.8226E-3:37:35:10624:3019:27:3\r\n",
      "235 T C 0/1:36:13624:13610:13569:39:0.29%:2.0226E-4:37:36:10513:3056:27:12\r\n",
      "254 A G 0/1:23:13362:13315:13283:31:0.23%:4.7508E-3:36:35:10182:3101:28:3\r\n",
      "276 A G 0/1:31:13702:13674:13636:36:0.26%:6.9461E-4:36:33:9684:3952:20:16\r\n",
      "297 T C 0/1:20:13431:13360:13331:29:0.22%:9.7131E-3:36:34:9364:3967:20:9\r\n",
      "340 T C 0/1:35:13613:13518:13477:38:0.28%:3.0697E-4:37:34:9060:4417:28:10\r\n",
      "389 T C 0/1:23:13725:13620:13585:31:0.23%:4.7514E-3:37:37:8460:5125:20:11\r\n",
      "409 T C 0/1:26:13538:13429:13393:33:0.25%:2.2501E-3:36:34:8281:5112:18:15\r\n",
      "414 T C 0/1:21:13781:13700:13667:30:0.22%:6.8227E-3:37:37:8468:5199:16:14\r\n",
      "463 A G 0/1:21:13329:13311:13276:30:0.23%:6.8216E-3:35:35:7756:5520:18:12\r\n",
      "595 G T 0/1:51:13049:12969:12917:45:0.35%:6.4285E-6:36:36:7946:4971:29:16\r\n",
      "660 A G 0/1:26:13427:13374:13338:33:0.25%:2.25E-3:36:36:7521:5817:19:14\r\n",
      "670 A G 0/1:23:13886:13824:13791:31:0.22%:4.7519E-3:37:35:8433:5358:18:13\r\n",
      "722 A G 0/1:20:13322:13306:13275:29:0.22%:9.7129E-3:36:35:8350:4925:12:17\r\n",
      "744 A G 0/1:23:13152:13109:13073:31:0.24%:4.7503E-3:37:35:8361:4712:14:17\r\n",
      "774 T C 0/1:40:13764:13722:13678:41:0.3%:8.6329E-5:37:37:7638:6040:23:18\r\n",
      "793 A G 0/1:24:13580:13526:13493:32:0.24%:3.2824E-3:37:33:7394:6099:11:21\r\n",
      "859 A G 0/1:31:13719:13654:13617:36:0.26%:6.946E-4:37:36:6911:6706:22:14\r\n",
      "898 A G 0/1:21:13518:13454:13424:30:0.22%:6.822E-3:36:35:6557:6867:12:18\r\n",
      "915 T C 0/1:50:13449:13410:13358:46:0.34%:9.3927E-6:35:34:6708:6650:20:26\r\n",
      "1008 T G 0/1:28:13553:13516:13474:34:0.25%:1.5313E-3:37:36:6811:6663:16:18\r\n",
      "1031 A G 0/1:28:13334:13287:13251:34:0.26%:1.5311E-3:36:37:6937:6314:17:17\r\n",
      "1086 A G 0/1:42:13471:13459:13417:42:0.31%:5.5931E-5:35:33:6580:6837:19:23\r\n",
      "1089 A G 0/1:31:13511:13455:13416:36:0.27%:6.945E-4:36:32:6672:6744:12:24\r\n",
      "1116 A G 0/1:21:13575:13517:13485:30:0.22%:6.8222E-3:37:33:6505:6980:5:25\r\n",
      "1213 A G 0/1:24:11196:11152:11123:29:0.26%:3.1901E-3:36:34:4008:7115:4:25\r\n",
      "1260 A C 0/1:40:13412:13372:13330:41:0.31%:8.6297E-5:36:36:5763:7567:10:31\r\n",
      "1264 T C 0/1:29:13364:13288:13252:35:0.26%:1.0346E-3:35:33:5892:7360:21:14\r\n",
      "1280 T C 0/1:36:12821:12804:12766:37:0.29%:2.3205E-4:37:34:5781:6985:21:16\r\n",
      "1281 T C 0/1:27:12857:12842:12810:32:0.25%:1.8147E-3:37:35:5874:6936:16:16\r\n",
      "1339 T C 0/1:92:13606:13587:13521:66:0.49%:5.1212E-10:37:37:6149:7372:24:42\r\n",
      "1358 A G 0/1:42:13813:13772:13729:42:0.3%:5.595E-5:37:36:6008:7721:14:28\r\n",
      "1366 A G 0/1:20:12974:12872:12841:28:0.22%:8.2531E-3:37:34:5201:7640:8:20\r\n",
      "1421 A G 0/1:49:10548:10493:10451:40:0.38%:1.1681E-5:36:34:2972:7479:8:32\r\n",
      "1460 A G 0/1:35:10025:10021:9987:33:0.33%:2.9912E-4:35:34:2327:7660:9:24\r\n",
      "1580 T C 0/1:21:9538:9532:9506:24:0.25%:6.726E-3:37:37:1054:8452:1:23\r\n",
      "1591 T C 0/1:27:9264:9262:9235:27:0.29%:1.9497E-3:36:36:1015:8220:3:24\r\n"
     ]
    }
   ],
   "source": [
    "! cat data/VarScan_results58.vcf | awk 'NR>24 {print $2, $4, $5, $10}'"
   ]
  },
  {
   "cell_type": "code",
   "execution_count": 26,
   "id": "7b26f5b7",
   "metadata": {},
   "outputs": [
    {
     "name": "stdout",
     "output_type": "stream",
     "text": [
      "44 T C 0/1:31:3809:3793:3775:18:0.47%:7.3433E-4:34:32:3006:769:17:1\r\n",
      "158 A G 0/1:23:13173:13108:13075:31:0.24%:4.7503E-3:36:34:10258:2817:22:9\r\n",
      "165 T C 0/1:35:13745:13650:13611:38:0.28%:3.07E-4:36:32:10950:2661:33:5\r\n",
      "183 A G 0/1:23:13325:13209:13174:31:0.23%:4.7505E-3:36:34:10244:2930:28:3\r\n",
      "193 A G 0/1:21:13213:13159:13129:30:0.23%:6.8212E-3:36:35:10017:3112:21:9\r\n",
      "218 A G 0/1:36:13697:13697:13655:39:0.28%:2.0227E-4:36:35:10818:2837:31:8\r\n",
      "222 T C 0/1:20:13739:13689:13660:29:0.21%:9.7142E-3:37:35:10806:2854:26:3\r\n",
      "276 A G 0/1:21:13682:13645:13609:30:0.22%:6.8225E-3:37:34:9924:3685:20:10\r\n",
      "319 T C 0/1:20:12969:12906:12875:28:0.22%:8.2532E-3:36:34:8883:3992:20:8\r\n",
      "340 T C 0/1:23:13572:13471:13438:31:0.23%:4.7511E-3:37:36:9309:4129:25:6\r\n",
      "356 A G 0/1:21:13530:13471:13440:30:0.22%:6.8221E-3:36:34:8721:4719:21:9\r\n",
      "370 A G 0/1:21:13212:13140:13110:30:0.23%:6.8212E-3:37:36:7890:5220:13:17\r\n",
      "398 A G 0/1:28:13771:13717:13682:34:0.25%:1.5315E-3:37:37:8129:5553:21:13\r\n",
      "409 T C 0/1:20:13527:13423:13393:29:0.22%:9.7133E-3:36:36:7919:5474:21:8\r\n",
      "463 A G 0/1:21:13273:13258:13226:30:0.23%:6.8215E-3:35:35:7298:5928:18:12\r\n",
      "499 A G 0/1:20:13613:13591:13560:29:0.21%:9.7138E-3:36:34:7965:5595:15:14\r\n",
      "516 A G 0/1:20:13417:13341:13311:29:0.22%:9.713E-3:36:36:7873:5438:16:13\r\n",
      "660 A G 0/1:46:13331:13279:13233:44:0.33%:2.3133E-5:36:34:7228:6005:16:28\r\n",
      "722 A G 0/1:29:13296:13289:13252:35:0.26%:1.0346E-3:36:35:8314:4938:19:16\r\n",
      "744 A G 0/1:21:13219:13185:13153:30:0.23%:6.8213E-3:37:32:8302:4851:11:19\r\n",
      "793 A G 0/1:26:13669:13620:13586:33:0.24%:2.2503E-3:37:32:7500:6086:16:17\r\n",
      "859 A G 0/1:33:13690:13623:13585:37:0.27%:4.6321E-4:37:37:6776:6809:16:21\r\n",
      "898 A G 0/1:28:13609:13546:13511:34:0.25%:1.5313E-3:36:35:6557:6954:7:27\r\n",
      "915 T C 0/1:24:13387:13314:13276:32:0.24%:3.282E-3:35:36:6674:6602:14:18\r\n",
      "1031 A G 0/1:44:13391:13350:13305:43:0.32%:3.6057E-5:36:34:6782:6523:13:30\r\n",
      "1100 T C 0/1:20:13426:13405:13374:29:0.22%:9.7132E-3:36:34:6841:6533:17:12\r\n",
      "1213 A G 0/1:23:11427:11387:11359:28:0.25%:4.7077E-3:37:34:4365:6994:12:16\r\n",
      "1264 T C 0/1:26:13404:13322:13288:33:0.25%:2.2499E-3:35:34:6418:6870:14:19\r\n",
      "1280 T C 0/1:25:12948:12939:12908:31:0.24%:2.682E-3:37:34:6392:6516:19:12\r\n",
      "1281 T C 0/1:20:12963:12951:12921:28:0.22%:8.2533E-3:37:33:6444:6477:21:7\r\n",
      "1358 A G 0/1:40:13833:13782:13739:41:0.3%:8.6334E-5:37:36:6253:7486:17:24\r\n",
      "1366 A G 0/1:20:13018:12921:12890:28:0.22%:8.2532E-3:37:32:5462:7428:11:17\r\n",
      "1421 A G 0/1:24:10535:10472:10443:27:0.26%:3.7899E-3:36:33:3114:7329:5:22\r\n",
      "1460 A G 0/1:49:9200:9191:9150:38:0.41%:1.2174E-5:35:33:2310:6840:7:31\r\n",
      "1517 A G 0/1:20:10740:10569:10543:25:0.24%:8.2927E-3:36:34:2397:8146:4:21\r\n",
      "1520 T C 0/1:27:11018:10918:10886:29:0.27%:1.6751E-3:37:35:2366:8520:5:24\r\n",
      "1600 T C 0/1:31:7437:7419:7393:26:0.35%:6.5155E-4:36:34:958:6435:2:24\r\n",
      "1604 T C 0/1:23:7110:7038:7014:22:0.31%:4.0333E-3:36:33:933:6081:2:20\r\n"
     ]
    }
   ],
   "source": [
    "! cat data/VarScan_results59.vcf | awk 'NR>24 {print $2, $4, $5, $10}'"
   ]
  },
  {
   "cell_type": "code",
   "execution_count": 27,
   "id": "d6b4a239",
   "metadata": {},
   "outputs": [
    {
     "name": "stdout",
     "output_type": "stream",
     "text": [
      "38 T C 0/1:37:2573:2573:2554:18:0.7%:1.9651E-4:35:30:1827:727:17:1\r\n",
      "44 T C 0/1:33:3822:3808:3789:19:0.5%:4.2089E-4:34:33:2963:826:18:1\r\n",
      "105 A G 0/1:21:6356:6322:6301:19:0.3%:7.2691E-3:37:35:5066:1235:17:2\r\n",
      "158 A G 0/1:38:12103:12056:12017:38:0.32%:1.5082E-4:36:35:9595:2422:33:5\r\n",
      "165 T C 0/1:36:13660:13590:13549:39:0.29%:2.0225E-4:36:32:10404:3145:31:8\r\n",
      "183 A G 0/1:23:13468:13372:13338:31:0.23%:4.7509E-3:36:36:9921:3417:19:12\r\n",
      "193 A G 0/1:20:13283:13225:13196:29:0.22%:9.7126E-3:37:35:9696:3500:19:10\r\n",
      "216 A G 0/1:20:13676:13674:13639:29:0.21%:9.7141E-3:37:36:9936:3703:18:11\r\n",
      "235 T C 0/1:36:13639:13626:13586:39:0.29%:2.0226E-4:38:37:9871:3715:27:12\r\n",
      "254 A G 0/1:24:13425:13365:13331:32:0.24%:3.2821E-3:36:35:9606:3725:22:10\r\n",
      "271 A G 0/1:24:13733:13726:13694:32:0.23%:3.2827E-3:37:35:9257:4437:22:10\r\n",
      "276 A G 0/1:54:13685:13659:13610:48:0.35%:3.7483E-6:37:35:9029:4581:32:16\r\n",
      "297 T C 0/1:38:13506:13414:13373:40:0.3%:1.3247E-4:36:33:8856:4517:31:9\r\n",
      "319 T C 0/1:20:12727:12667:12636:28:0.22%:8.2524E-3:36:35:8308:4328:17:11\r\n",
      "340 T C 0/1:28:13688:13585:13550:34:0.25%:1.5314E-3:37:35:8816:4734:29:5\r\n",
      "370 A G 0/1:28:13821:13757:13723:34:0.25%:1.5315E-3:38:37:8192:5531:20:14\r\n",
      "414 T C 0/1:28:13816:13731:13696:34:0.25%:1.5315E-3:37:35:8251:5445:18:16\r\n",
      "494 A G 0/1:21:13834:13803:13772:30:0.22%:6.823E-3:36:34:8221:5551:20:10\r\n",
      "566 A G 0/1:36:13494:13432:13391:39:0.29%:2.0222E-4:36:32:7966:5425:17:22\r\n",
      "597 A G 0/1:20:13615:13562:13531:29:0.21%:9.7137E-3:36:35:7886:5645:17:12\r\n",
      "660 A G 0/1:31:13336:13290:13250:36:0.27%:6.9441E-4:36:35:7204:6046:17:19\r\n",
      "722 A G 0/1:42:13250:13236:13193:42:0.32%:5.5916E-5:36:36:8129:5064:21:21\r\n",
      "759 T C 0/1:24:13782:13687:13654:32:0.23%:3.2826E-3:36:35:8043:5611:20:12\r\n",
      "859 A G 0/1:21:13765:13696:13665:30:0.22%:6.8227E-3:37:37:6822:6843:20:10\r\n",
      "915 T C 0/1:40:13496:13438:13389:41:0.31%:8.6302E-5:35:33:6701:6688:17:24\r\n",
      "1031 A G 0/1:28:13375:13333:13297:34:0.26%:1.5311E-3:36:35:6806:6491:11:23\r\n",
      "1086 A G 0/1:40:13403:13394:13348:41:0.31%:8.6299E-5:35:35:6296:7052:19:22\r\n",
      "1089 A G 0/1:24:13562:13503:13468:32:0.24%:3.2823E-3:36:31:6445:7023:10:22\r\n",
      "1105 A G 0/1:26:13362:13290:13256:33:0.25%:2.2499E-3:37:33:6659:6597:11:22\r\n",
      "1209 A G 0/1:39:11492:11489:11451:37:0.32%:1.0952E-4:37:29:3960:7491:6:31\r\n",
      "1213 A G 0/1:26:11154:11119:11088:30:0.27%:2.1446E-3:36:33:3987:7101:9:21\r\n",
      "1264 T C 0/1:44:13427:13332:13287:43:0.32%:3.6057E-5:35:32:6600:6687:30:13\r\n",
      "1280 T C 0/1:26:13080:13068:13034:33:0.25%:2.2496E-3:37:34:6575:6459:17:16\r\n",
      "1281 T C 0/1:20:13109:13102:13070:29:0.22%:9.7121E-3:37:32:6634:6436:17:12\r\n",
      "1358 A G 0/1:46:13827:13775:13729:44:0.32%:2.3148E-5:37:36:6616:7113:16:28\r\n",
      "1366 A G 0/1:29:13020:12919:12885:33:0.26%:1.219E-3:37:33:5844:7041:9:24\r\n",
      "1398 T C 0/1:26:11369:11265:11234:30:0.27%:2.1448E-3:35:35:4731:6503:16:14\r\n",
      "1421 A G 0/1:57:10117:10073:10028:44:0.44%:1.6455E-6:36:34:3060:6968:10:34\r\n",
      "1460 A G 0/1:30:9652:9645:9614:29:0.3%:8.2058E-4:35:34:2616:6998:6:23\r\n",
      "1580 T C 0/1:27:9853:9845:9817:27:0.27%:1.9507E-3:37:36:1404:8413:5:22\r\n",
      "1604 T C 0/1:26:8471:8394:8367:25:0.3%:2.2565E-3:36:35:1173:7194:5:20\r\n"
     ]
    }
   ],
   "source": [
    "! cat data/VarScan_results60.vcf | awk 'NR>24 {print $2, $4, $5, $10}'"
   ]
  },
  {
   "cell_type": "markdown",
   "id": "6425d42b",
   "metadata": {},
   "source": [
    "As expected, there aro no variants with frequency above 1% in all 3 sequencings. "
   ]
  },
  {
   "cell_type": "markdown",
   "id": "2448f5e0",
   "metadata": {},
   "source": [
    "In this table, all variants are sorted by unique position (`sort -u -n`)\n",
    "| Position | Reference | Alternative | Frequency |\n",
    "| --- | --- | --- | --- |\n",
    "38 | T | C | 0.7%\n",
    "44 | T | C | 0.47%\n",
    "54 | T | C | 0.34%\n",
    "72 | A | G | 0.34%\n",
    "105 | A | G | 0.3%\n",
    "117 | C | T | 0.33%\n",
    "158 | A | G | 0.24%\n",
    "165 | T | C | 0.28%\n",
    "183 | A | G | 0.23%\n",
    "193 | A | G | 0.22%\n",
    "216 | A | G | 0.21%\n",
    "218 | A | G | 0.28%\n",
    "222 | T | C | 0.21%\n",
    "235 | T | C | 0.29%\n",
    "254 | A | G | 0.23%\n",
    "271 | A | G | 0.23%\n",
    "276 | A | G | 0.22%\n",
    "297 | T | C | 0.22%\n",
    "319 | T | C | 0.22%\n",
    "340 | T | C | 0.23%\n",
    "356 | A | G | 0.22%\n",
    "370 | A | G | 0.23%\n",
    "389 | T | C | 0.23%\n",
    "398 | A | G | 0.25%\n",
    "409 | T | C | 0.22%\n",
    "414 | T | C | 0.22%\n",
    "463 | A | G | 0.23%\n",
    "494 | A | G | 0.22%\n",
    "499 | A | G | 0.21%\n",
    "516 | A | G | 0.22%\n",
    "566 | A | G | 0.29%\n",
    "595 | G | T | 0.35%\n",
    "597 | A | G | 0.21%\n",
    "660 | A | G | 0.25%\n",
    "670 | A | G | 0.22%\n",
    "722 | A | G | 0.22%\n",
    "744 | A | G | 0.23%\n",
    "759 | T | C | 0.23%\n",
    "774 | T | C | 0.3%\n",
    "793 | A | G | 0.24%\n",
    "859 | A | G | 0.22%\n",
    "898 | A | G | 0.22%\n",
    "915 | T | C | 0.24%\n",
    "1008 | T | G | 0.25%\n",
    "1031 | A | G | 0.26%\n",
    "1086 | A | G | 0.31%\n",
    "1089 | A | G | 0.24%\n",
    "1100 | T | C | 0.22%\n",
    "1105 | A | G | 0.25%\n",
    "1116 | A | G | 0.22%\n",
    "1209 | A | G | 0.32%\n",
    "1213 | A | G | 0.25%\n",
    "1260 | A | C | 0.31%\n",
    "1264 | T | C | 0.25%\n",
    "1280 | T | C | 0.24%\n",
    "1281 | T | C | 0.22%\n",
    "1339 | T | C | 0.49%\n",
    "1358 | A | G | 0.3%\n",
    "1366 | A | G | 0.22%\n",
    "1398 | T | C | 0.27%\n",
    "1421 | A | G | 0.26%\n",
    "1460 | A | G | 0.3%\n",
    "1517 | A | G | 0.24%\n",
    "1520 | T | C | 0.27%\n",
    "1580 | T | C | 0.25%\n",
    "1591 | T | C | 0.29%\n",
    "1600 | T | C | 0.35%\n",
    "1604 | T | C | 0.31%"
   ]
  },
  {
   "cell_type": "markdown",
   "id": "6449f22c",
   "metadata": {},
   "source": [
    "Average frequency is **0.27%** and SD is **0.07%**, so probable mutation variants must have frequency above 0,45%"
   ]
  },
  {
   "cell_type": "markdown",
   "id": "e2bf8ce9",
   "metadata": {},
   "source": [
    "\n",
    "| Position | Reference | Alternative | Frequency | Residue change |\n",
    "| --- | --- | --- | --- | --- |\n",
    "| 307 | C | T | 0.92% |  P103S |\n",
    "| 1458 | T | C | 0.86% | Y486Y |"
   ]
  },
  {
   "cell_type": "markdown",
   "id": "1414706c",
   "metadata": {},
   "source": [
    "Mutations in such positions are not present in control sequencing. \n",
    "One in 1458 position is silent, but one in 307 position is missense and 102th residue is in epitope D."
   ]
  },
  {
   "cell_type": "markdown",
   "id": "3e5755f8",
   "metadata": {},
   "source": [
    "![alternative text](pic2.png)"
   ]
  }
 ],
 "metadata": {
  "kernelspec": {
   "display_name": "Python 3 (ipykernel)",
   "language": "python",
   "name": "python3"
  },
  "language_info": {
   "codemirror_mode": {
    "name": "ipython",
    "version": 3
   },
   "file_extension": ".py",
   "mimetype": "text/x-python",
   "name": "python",
   "nbconvert_exporter": "python",
   "pygments_lexer": "ipython3",
   "version": "3.10.6"
  }
 },
 "nbformat": 4,
 "nbformat_minor": 5
}
